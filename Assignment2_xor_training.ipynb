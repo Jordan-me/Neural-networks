{
  "nbformat": 4,
  "nbformat_minor": 0,
  "metadata": {
    "colab": {
      "name": "Assignment2_xor_training.ipynb",
      "provenance": [],
      "collapsed_sections": [
        "JhqVXNzBVc5s",
        "nKfbDLOmVuec"
      ]
    },
    "kernelspec": {
      "name": "python3",
      "display_name": "Python 3"
    },
    "language_info": {
      "name": "python"
    }
  },
  "cells": [
    {
      "cell_type": "code",
      "metadata": {
        "id": "UOynuhGJpCmI",
        "colab": {
          "base_uri": "https://localhost:8080/"
        },
        "outputId": "554d6fd2-09de-46a8-f032-5d5d5e6c98a0"
      },
      "source": [
        "from prettytable import PrettyTable\n",
        "from IPython.display import display, HTML\n",
        "import math\n",
        "import torch\n",
        "from torch import nn\n",
        "import matplotlib.pyplot as plt\n",
        "\n",
        "import numpy as np\n",
        "import pandas as pd\n",
        "import seaborn as sns\n",
        "\n",
        "print(\"\"\"\n",
        "         / \\__\n",
        "        (    @\\___\n",
        "        /         O  <Hello!>\n",
        "       /   (_____/\n",
        "      /_____/   U\"\"\")"
      ],
      "execution_count": null,
      "outputs": [
        {
          "output_type": "stream",
          "name": "stdout",
          "text": [
            "\n",
            "         / \\__\n",
            "        (    @\\___\n",
            "        /         O  <Hello!>\n",
            "       /   (_____/\n",
            "      /_____/   U\n"
          ]
        }
      ]
    },
    {
      "cell_type": "code",
      "metadata": {
        "colab": {
          "base_uri": "https://localhost:8080/"
        },
        "id": "fOc7crxQpFFY",
        "outputId": "fededc69-42b6-4193-de7e-01f4eed7b31b"
      },
      "source": [
        "device = torch.device(\"cuda:0\" if torch.cuda.is_available() else \"cpu\")\n",
        "print(device)"
      ],
      "execution_count": null,
      "outputs": [
        {
          "output_type": "stream",
          "name": "stdout",
          "text": [
            "cpu\n"
          ]
        }
      ]
    },
    {
      "cell_type": "markdown",
      "metadata": {
        "id": "NpYkiVyopU2X"
      },
      "source": [
        ">## ***Define Linear Layer***  \n"
      ]
    },
    {
      "cell_type": "markdown",
      "metadata": {
        "id": "S-O4VZ9vp0H8"
      },
      "source": [
        ">**Variables:** \n",
        "\n",
        "*   `in_features = number of dimension, vector(x) ` \n",
        "*   `out_featues = output of this layer, vector(y), equal number of neurals in the layer.`\n",
        "*  `layer_name - could be 'hidden' or 'output'.`\n",
        "*  `biasV - if there is bias we will add vector(b)`  \n",
        "* `device=  the desired device of returned tensor (CPU/CUDA)`\n",
        "*   `dtype = data type of returned tensor.`\n",
        "\n",
        ">**Layer equation:**   \n",
        "As the name implies, the layer performs a linear equation:  \n",
        "![picture](https://drive.google.com/uc?export=view&id=15pfqqQ0was1s7Ubzn-Gp5C2fS6CkzoFo)  \n",
        "note: here `vector(z)` = output of the layer, and `vector(y)` is the output of the network.  \n",
        "\n",
        "\n",
        " \n",
        " \n",
        "\n"
      ]
    },
    {
      "cell_type": "code",
      "metadata": {
        "id": "zOXZIxd1plXp"
      },
      "source": [
        "torch.manual_seed(0)\n",
        "class Linear(torch.nn.Module):\n",
        "    def __init__(self, in_features: int, out_features: int,layer_name:str, biasV: bool = True, device=None, dtype=None) -> None:\n",
        "      kwargs = {'device': device, 'dtype': dtype} #device=  the desired device of returned tensor (CPU/CUDA), dtype = data type of returned tensor. \n",
        "      super(Linear, self).__init__()\n",
        "      self.in_features = in_features\n",
        "      self.out_features = out_features\n",
        "      self.layer_name = layer_name\n",
        "      #creat an empty tensor input_dimXoutput_dim for vector(w)\n",
        "      self.weight = nn.Parameter(torch.empty((in_features, out_features), **kwargs))\n",
        "      #create an empty tensor 1Xoutput_dim for vector(b)\n",
        "      if biasV: \n",
        "        self.bias = nn.Parameter(torch.empty(out_features, **kwargs))\n",
        "      else:\n",
        "        self.register_parameter('bias', None)\n",
        "      self.reset_parameters()\n",
        "\n",
        "    #Initializes vector(w),vector(b) randomly\n",
        "    def reset_parameters(self) -> None:\n",
        "      self.weight = nn.Parameter(torch.rand([self.out_features, self.in_features]))\n",
        "      if self.bias is not None:\n",
        "        self.bias = nn.Parameter(torch.rand([self.out_features]))\n",
        "        \n",
        "    #Initializes vector(w),vector(b) manually\n",
        "    def set_weights(self, w, b):\n",
        "      #TODO: validate size of empty tensor befor initialize it\n",
        "      checkInput(self.weight.size(),w.size(),\"==\",True,\"Error initializing vector w\")\n",
        "      checkInput(self.bias.size(),b.size(),\"==\",True,\"Error initializing vector b\")\n",
        "      self.weight = nn.Parameter(torch.tensor(w))\n",
        "      if self.bias is not None:\n",
        "        self.bias = nn.Parameter(torch.tensor(b))\n",
        "    \n",
        "    def forward(self, input: torch.Tensor) -> torch.Tensor:\n",
        "      self.vector_x = input\n",
        "      self.vector_z = torch.matmul(input, torch.transpose(self.weight,0,1)) + self.bias\n",
        "      return self.vector_z\n",
        "\n",
        "    def extra_repr(self) -> str:\n",
        "      return 'in_features={}, out_features={}, bias={}'.format(\n",
        "          self.in_features, self.out_features, self.bias is not None\n",
        "        )\n",
        "    def pretty_repr(self):\n",
        "      t = PrettyTable(['Layer name','#in dim','#out dim', 'Vector(w)', 'Vector(x)', 'Vector(b)', 'Vector(z)']) \n",
        "   \n",
        "      t.add_row([self.layer_name, self.in_features, self.out_features ,self.weight.detach().numpy(), self.vector_x.detach().numpy(), self.bias.detach().numpy() ,self.vector_z.detach().numpy()])\n",
        "      return t\n"
      ],
      "execution_count": null,
      "outputs": []
    },
    {
      "cell_type": "markdown",
      "metadata": {
        "id": "e4tjwe0a2fAf"
      },
      "source": [
        " ># ***Define BTU Layer***  \n",
        " "
      ]
    },
    {
      "cell_type": "markdown",
      "metadata": {
        "id": "1vX1MwcO-rct"
      },
      "source": [
        ">**Variables:** \n",
        "\n",
        "*   ` T - temperature, as much close to 0 BTU graph look like the sigmoid` \n",
        ">**Layer equation:**   \n",
        "   \n",
        "   ![picture](https://drive.google.com//uc?export=view&id=1_7pPkpv7IKytDhQEf0FYCFFHHKYguo-F)   \n",
        "note: here `vector(z)` = output of the layer, and `vector(y)` is the output of the network.  \n",
        "![picture](https://drive.google.com//uc?export=view&id=11JmF2c4h-R7rdHcjB-cgjPt435qWH390)  "
      ]
    },
    {
      "cell_type": "code",
      "metadata": {
        "id": "3D49NWK2-2FG"
      },
      "source": [
        "class BTU(torch.nn.Module):\n",
        "  def __init__(self, T=1, inplace: bool = False):\n",
        "      super(BTU, self).__init__()\n",
        "      self.T = T\n",
        "\n",
        "  def forward(self, input: torch.Tensor) -> torch.Tensor:\n",
        "      return 1 / (1 + torch.exp(-input/self.T))"
      ],
      "execution_count": null,
      "outputs": []
    },
    {
      "cell_type": "markdown",
      "metadata": {
        "id": "u0Pzz0ctgBO5"
      },
      "source": [
        "#Define XOR Model:  \n"
      ]
    },
    {
      "cell_type": "code",
      "metadata": {
        "id": "pLfqjIZMgAy0"
      },
      "source": [
        "out_dim = 1\n",
        "class XOR_Net_Model(nn.Module):\n",
        "  def __init__(self,dim, num_hidden,bypass=True):\n",
        "    super().__init__()\n",
        "    self.dim = dim\n",
        "    self.num_hidden = num_hidden\n",
        "    self.bypass = bypass\n",
        "\n",
        "    self.hidden = Linear(dim, num_hidden,\"Hidden Layer\")\n",
        "    if self.bypass:\n",
        "      self.output = Linear(num_hidden + dim, out_dim,\"Output Layer\")\n",
        "    else:\n",
        "      self.output = Linear(num_hidden, out_dim,\"Outpput Layer\")\n",
        "    self.BTU = BTU(0.5)\n",
        "\n",
        "  def reset_parameters(self,model):\n",
        "    for layer in model.children():\n",
        "      if hasattr(layer, 'reset_parameters'):\n",
        "        layer.reset_parameters()\n",
        "\n",
        "\n",
        "  def forward(self, input):\n",
        "    self.input = input\n",
        "    z1 = self.hidden(input)\n",
        "    y1 = self.BTU(z1)\n",
        "    if self.bypass:\n",
        "      y1_concat = torch.cat((input, y1), 1)\n",
        "      z2 = self.output(y1_concat)\n",
        "    else:\n",
        "      z2 = self.output(y1)\n",
        "    self.final_output = self.BTU(z2)\n",
        "    return self.BTU(z2)\n",
        "  \n",
        "  def print_network(self)->None:\n",
        "    print('Network input:\\n{}\\nNetwork output:\\n{}\\n '.format(self.input,self.final_output))\n",
        "    #print hidden layer\n",
        "    print(self.hidden.pretty_repr())\n",
        "    print()\n",
        "    #print output layer\n",
        "    print(self.output.pretty_repr())\n"
      ],
      "execution_count": null,
      "outputs": []
    },
    {
      "cell_type": "markdown",
      "metadata": {
        "id": "tQSj0soKeEbq"
      },
      "source": [
        "# Define Loss  \n",
        "loss = CE (cross- entropy), equation:  \n",
        "![picture](https://drive.google.com//uc?export=view&id=1uxoEvwS00EBWOhHgK2KXrBud_h2r2lHL)    \n"
      ]
    },
    {
      "cell_type": "code",
      "metadata": {
        "id": "0SOJIzYneED3"
      },
      "source": [
        "def Loss(out, t_train):\n",
        "  return -(1/t_train.shape[0])*torch.sum(t_train * torch.log(out) + (1.0 - t_train) * torch.log(1.0 - out))  # Cross Entropy loss function\n"
      ],
      "execution_count": null,
      "outputs": []
    },
    {
      "cell_type": "markdown",
      "metadata": {
        "id": "nFtyRbH4heh7"
      },
      "source": [
        "# Define Train process :  \n",
        "## pytorch - connection between loss.backward() and optimizer.step()  \n",
        "[Explain the connection loss&optimizer](https://newbedev.com/pytorch-connection-between-loss-backward-and-optimizer-step)"
      ]
    },
    {
      "cell_type": "code",
      "metadata": {
        "id": "kwzqgXy2hwhO"
      },
      "source": [
        "size_train = 4\n",
        "def train(model, x, t, optimizer,split_loss = 0):\n",
        "  y_pred = model(x) #output of the hypothesis\n",
        "  \n",
        "  loss = Loss(y_pred, t)\n",
        "\n",
        "  # zero gradients berfore running the backward pass\n",
        "  optimizer.zero_grad()\n",
        "\n",
        "  # backward pass to compute the gradient of loss\n",
        "  # backprop + accumulate \n",
        "  loss.backward()\n",
        "\n",
        "  # update params\n",
        "  optimizer.step()\n",
        "  \n",
        "  if(split_loss):\n",
        "    y_pred_cp = y_pred.clone()\n",
        "    y_pred_cp = y_pred_cp[0:size_train:1]\n",
        "    t_cp = t.clone()\n",
        "    t_cp = t_cp[0:size_train:1]\n",
        "    loss_train = Loss(y_pred_cp, t_cp)\n",
        "    return (loss,loss_train)\n",
        "    \n",
        "  return loss"
      ],
      "execution_count": null,
      "outputs": []
    },
    {
      "cell_type": "markdown",
      "metadata": {
        "id": "vTzAPEpjVd7X"
      },
      "source": [
        "# Feed-Forward Neural Network:  \n",
        "![picture](https://drive.google.com//uc?export=view&id=1qdi-jLDXkFQwu4TAHDEnHsJJ4yG0tkKd)"
      ]
    },
    {
      "cell_type": "code",
      "metadata": {
        "id": "YvjCzXJQXLRL"
      },
      "source": [
        "def trainning(model,x,t,optimizer):\n",
        "  num_epocs = 40001\n",
        "  success = False\n",
        "  limit_delta = 0.0001\n",
        "  counter_good_loss = 0 \n",
        "  delta_loss = 0\n",
        "  total_epocs = 0\n",
        "  current_loss =  train(model, x, t, optimizer)\n",
        "\n",
        "  for i in range(num_epocs):\n",
        "    if(i >=num_epocs):\n",
        "      success = False\n",
        "      break\n",
        "    loss,loss_train = train(model, x, t, optimizer,split_loss=1)\n",
        "    delta_loss = abs(current_loss - loss)\n",
        "    if ((delta_loss <= limit_delta) and loss < 0.2):\n",
        "      counter_good_loss+=1\n",
        "    else:\n",
        "      counter_good_loss = 0\n",
        "    if (counter_good_loss >=10):\n",
        "      success = True\n",
        "      break\n",
        "    current_loss = loss\n",
        "\n",
        "  res = [i,loss.detach().numpy(),loss_train.detach().numpy(),success]\n",
        "  if model.num_hidden == 1:\n",
        "    print(model.hidden.pretty_repr())\n",
        "\n",
        "  return res\n",
        "  "
      ],
      "execution_count": null,
      "outputs": []
    },
    {
      "cell_type": "code",
      "metadata": {
        "id": "OOdEsqERXS9r"
      },
      "source": [
        "class experiment():\n",
        "  def __init__(self,id,num_hidden,bypass,x_valid,t_valid,input_dim = 2,learning_rate=0.2):\n",
        "    self.id = id\n",
        "    self.num_hidden = num_hidden\n",
        "    self.bypass = bypass\n",
        "    self.learning_rate = learning_rate\n",
        "    #Each failed run raises the total fail by 1\n",
        "    self.total_fail =0\n",
        "    data1 = {'#Experiment':  [],'mean(#epochs)': [],'sd(#epochs)':[],'mean(train loss)':[],'sd(train loss)':[],'mean(valid loss)':[],'sd(valid loss)':[],'#fails':[]}\n",
        "    data2 =  {'#epochs':  [],'loss (Validation)': [],'loss (train)':[]}\n",
        "    self.summary_table = pd.DataFrame(data1)\n",
        "    self.data_table = pd.DataFrame(data2)\n",
        "    self.model = XOR_Net_Model(input_dim,num_hidden,bypass=bypass)\n",
        "    self.optimizer = torch.optim.SGD(self.model.parameters(), lr=learning_rate)\n",
        "    self.x_valid = x_valid\n",
        "    self.t_valid = t_valid\n",
        "\n",
        "  def activate(self):\n",
        "    self.Experimenting()\n",
        "    self.set_summary_table()\n",
        "  \n",
        "  def Experimenting(self):\n",
        "    #Each experiment should run a total of 10 successful runs\n",
        "    total_try = 10\n",
        "    #counter xucceed: Will indicate a number of successful \"runs\"\n",
        "    counter_succeed = 0\n",
        "    #copy to calc train loss \n",
        "    x_val_cp = self.x_valid.clone()\n",
        "\n",
        "    while(counter_succeed < total_try):\n",
        "      res = trainning(self.model,x_val_cp,self.t_valid,self.optimizer)\n",
        "      #res[3]: A Boolean value that indicates a successful run\n",
        "      if(res[3]):\n",
        "        counter_succeed+=1 #good run\n",
        "        #The table holds the experiment information held in the res array\n",
        "        self.data_table = self.add_row_table(self.data_table,res[:3])\n",
        "      else:\n",
        "        self.total_fail+=1\n",
        "\n",
        "      #After each run - the weights of the neural network should be restarted\n",
        "      self.model.reset_parameters(self.model)\n",
        "      #After updating the model, the optimizer must be updated with the new values, so the new parameters are added to its states dictionary.\n",
        "      self.optimizer.add_param_group({'params':self.model.parameters()})\n",
        "\n",
        "  def set_summary_table(self):\n",
        "    cols_mean = self.data_table[[\"#epochs\",\"loss (train)\",\"loss (Validation)\"]].mean()\n",
        "    cols_sd =  self.data_table[[\"#epochs\",\"loss (train)\",\"loss (Validation)\"]].std()\n",
        "    row = [self.id,cols_mean[0],cols_sd[0],cols_mean[1],cols_sd[1],cols_mean[2],cols_sd[2],self.total_fail]\n",
        "    self.summary_table = self.add_row_table(self.summary_table,row)\n",
        "\n",
        "  def add_row_table(self,table,row):\n",
        "    cols = table.columns\n",
        "    data = dict()\n",
        "    for i in range(len(row)):\n",
        "      data[cols[i]] = row[i]\n",
        "    table = table.append(data,ignore_index=True,sort=False)\n",
        "    return table\n",
        "\n",
        "  def print_experiment(self):\n",
        "    print(f'Experiment #{self.id}:\\nNumber of hidden neurals = {self.num_hidden}\\tBypass = {self.bypass}\\tlearning rate = {self.learning_rate}')\n",
        "    display(self.data_table)\n",
        "    display(self.summary_table)\n"
      ],
      "execution_count": null,
      "outputs": []
    },
    {
      "cell_type": "markdown",
      "metadata": {
        "id": "9XYVQl6bAwl4"
      },
      "source": [
        "## For each experiment we will save the following tables:  "
      ]
    },
    {
      "cell_type": "code",
      "metadata": {
        "colab": {
          "base_uri": "https://localhost:8080/"
        },
        "id": "N9X17zSdfyVU",
        "outputId": "84515aeb-a874-428f-c20e-0ad844d1dc02"
      },
      "source": [
        "data_table = PrettyTable(['#epochs','loss (Validatin)','loss (train)']) \n",
        "print(data_table)\n"
      ],
      "execution_count": null,
      "outputs": [
        {
          "output_type": "stream",
          "name": "stdout",
          "text": [
            "+---------+------------------+--------------+\n",
            "| #epochs | loss (Validatin) | loss (train) |\n",
            "+---------+------------------+--------------+\n",
            "+---------+------------------+--------------+\n"
          ]
        }
      ]
    },
    {
      "cell_type": "code",
      "metadata": {
        "colab": {
          "base_uri": "https://localhost:8080/"
        },
        "id": "6-tR7rLiPCmg",
        "outputId": "747cec21-348f-4b7c-866b-088da19bfd6d"
      },
      "source": [
        "summary = PrettyTable(['#Experiment','mean(#epochs)','sd(#epochs)','mean(train loss)','sd(train loss)','mean(valid loss)','sd(valid loss)','#fails']) \n",
        "print(summary)    \n"
      ],
      "execution_count": null,
      "outputs": [
        {
          "output_type": "stream",
          "name": "stdout",
          "text": [
            "+-------------+---------------+-------------+------------------+----------------+------------------+----------------+--------+\n",
            "| #Experiment | mean(#epochs) | sd(#epochs) | mean(train loss) | sd(train loss) | mean(valid loss) | sd(valid loss) | #fails |\n",
            "+-------------+---------------+-------------+------------------+----------------+------------------+----------------+--------+\n",
            "+-------------+---------------+-------------+------------------+----------------+------------------+----------------+--------+\n"
          ]
        }
      ]
    },
    {
      "cell_type": "markdown",
      "metadata": {
        "id": "cihJuHfzCHvh"
      },
      "source": [
        "### define validation group.\n",
        "note: When calculating the loss for validation - a split is performed (because it contains the training group) to calculate the loss of the training."
      ]
    },
    {
      "cell_type": "code",
      "metadata": {
        "id": "NvLpCf9SB_-8"
      },
      "source": [
        "# x_train = torch.tensor([[0, 0], [0, 1], [1, 0], [1, 1]], requires_grad=True, dtype=torch.float32)\n",
        "# t_train = torch.tensor([[0], [1], [1], [0]], dtype=torch.float32)\n",
        "\n",
        "x_valid = torch.tensor([[0, 0], [0, 1], [1, 0], [1, 1],[1,0.1],[1,0.9],[0.9,0.9],[0.1,0.9]], requires_grad=True, dtype=torch.float32)\n",
        "t_valid = torch.tensor([[0], [1], [1], [0],[1],[0],[0],[1]], dtype=torch.float32)\n"
      ],
      "execution_count": null,
      "outputs": []
    },
    {
      "cell_type": "markdown",
      "metadata": {
        "id": "rUt2Q5nIBDlC"
      },
      "source": [
        "># Let's start:  \n",
        "\n",
        "\n",
        "\n",
        "\n"
      ]
    },
    {
      "cell_type": "markdown",
      "metadata": {
        "id": "ZxBPnL0_pXji"
      },
      "source": [
        ">## Experiment number 1:  \n",
        "\n",
        "\n",
        ">*   parameters:  \n",
        "  *   Learning rate (aka. Lamda) = 0.1\n",
        "  *   Number of neurons in the hidden layer = 2  \n",
        "  *   Bypass = False"
      ]
    },
    {
      "cell_type": "code",
      "metadata": {
        "colab": {
          "base_uri": "https://localhost:8080/",
          "height": 460
        },
        "id": "nVkUJlDYAsGw",
        "outputId": "ec77e825-299c-471a-cb12-6a3e07c794ff"
      },
      "source": [
        "num_hidden = 2\n",
        "input_dim = 2\n",
        "learning_rate = 0.1\n",
        "\n",
        "exp1 = experiment(1,num_hidden,False,x_valid,t_valid,learning_rate=0.1)\n",
        "exp1.activate()\n",
        "exp1.print_experiment()"
      ],
      "execution_count": null,
      "outputs": [
        {
          "output_type": "stream",
          "name": "stdout",
          "text": [
            "Experiment #1:\n",
            "Number of hidden neurals = 2\tBypass = False\tlearning rate = 0.1\n"
          ]
        },
        {
          "output_type": "display_data",
          "data": {
            "text/html": [
              "<div>\n",
              "<style scoped>\n",
              "    .dataframe tbody tr th:only-of-type {\n",
              "        vertical-align: middle;\n",
              "    }\n",
              "\n",
              "    .dataframe tbody tr th {\n",
              "        vertical-align: top;\n",
              "    }\n",
              "\n",
              "    .dataframe thead th {\n",
              "        text-align: right;\n",
              "    }\n",
              "</style>\n",
              "<table border=\"1\" class=\"dataframe\">\n",
              "  <thead>\n",
              "    <tr style=\"text-align: right;\">\n",
              "      <th></th>\n",
              "      <th>#epochs</th>\n",
              "      <th>loss (Validation)</th>\n",
              "      <th>loss (train)</th>\n",
              "    </tr>\n",
              "  </thead>\n",
              "  <tbody>\n",
              "    <tr>\n",
              "      <th>0</th>\n",
              "      <td>1972.0</td>\n",
              "      <td>0.05263438</td>\n",
              "      <td>0.06766455</td>\n",
              "    </tr>\n",
              "    <tr>\n",
              "      <th>1</th>\n",
              "      <td>1639.0</td>\n",
              "      <td>0.054318238</td>\n",
              "      <td>0.0637329</td>\n",
              "    </tr>\n",
              "    <tr>\n",
              "      <th>2</th>\n",
              "      <td>2624.0</td>\n",
              "      <td>0.050747354</td>\n",
              "      <td>0.0685065</td>\n",
              "    </tr>\n",
              "    <tr>\n",
              "      <th>3</th>\n",
              "      <td>1442.0</td>\n",
              "      <td>0.054366626</td>\n",
              "      <td>0.062158346</td>\n",
              "    </tr>\n",
              "    <tr>\n",
              "      <th>4</th>\n",
              "      <td>1524.0</td>\n",
              "      <td>0.053419672</td>\n",
              "      <td>0.057462484</td>\n",
              "    </tr>\n",
              "    <tr>\n",
              "      <th>5</th>\n",
              "      <td>1959.0</td>\n",
              "      <td>0.053405803</td>\n",
              "      <td>0.056159854</td>\n",
              "    </tr>\n",
              "    <tr>\n",
              "      <th>6</th>\n",
              "      <td>3589.0</td>\n",
              "      <td>0.049942132</td>\n",
              "      <td>0.046609215</td>\n",
              "    </tr>\n",
              "    <tr>\n",
              "      <th>7</th>\n",
              "      <td>1337.0</td>\n",
              "      <td>0.05434916</td>\n",
              "      <td>0.062316637</td>\n",
              "    </tr>\n",
              "    <tr>\n",
              "      <th>8</th>\n",
              "      <td>1306.0</td>\n",
              "      <td>0.054267127</td>\n",
              "      <td>0.06178868</td>\n",
              "    </tr>\n",
              "    <tr>\n",
              "      <th>9</th>\n",
              "      <td>2441.0</td>\n",
              "      <td>0.051405825</td>\n",
              "      <td>0.0684724</td>\n",
              "    </tr>\n",
              "  </tbody>\n",
              "</table>\n",
              "</div>"
            ],
            "text/plain": [
              "   #epochs loss (Validation) loss (train)\n",
              "0   1972.0        0.05263438   0.06766455\n",
              "1   1639.0       0.054318238    0.0637329\n",
              "2   2624.0       0.050747354    0.0685065\n",
              "3   1442.0       0.054366626  0.062158346\n",
              "4   1524.0       0.053419672  0.057462484\n",
              "5   1959.0       0.053405803  0.056159854\n",
              "6   3589.0       0.049942132  0.046609215\n",
              "7   1337.0        0.05434916  0.062316637\n",
              "8   1306.0       0.054267127   0.06178868\n",
              "9   2441.0       0.051405825    0.0684724"
            ]
          },
          "metadata": {}
        },
        {
          "output_type": "display_data",
          "data": {
            "text/html": [
              "<div>\n",
              "<style scoped>\n",
              "    .dataframe tbody tr th:only-of-type {\n",
              "        vertical-align: middle;\n",
              "    }\n",
              "\n",
              "    .dataframe tbody tr th {\n",
              "        vertical-align: top;\n",
              "    }\n",
              "\n",
              "    .dataframe thead th {\n",
              "        text-align: right;\n",
              "    }\n",
              "</style>\n",
              "<table border=\"1\" class=\"dataframe\">\n",
              "  <thead>\n",
              "    <tr style=\"text-align: right;\">\n",
              "      <th></th>\n",
              "      <th>#Experiment</th>\n",
              "      <th>mean(#epochs)</th>\n",
              "      <th>sd(#epochs)</th>\n",
              "      <th>mean(train loss)</th>\n",
              "      <th>sd(train loss)</th>\n",
              "      <th>mean(valid loss)</th>\n",
              "      <th>sd(valid loss)</th>\n",
              "      <th>#fails</th>\n",
              "    </tr>\n",
              "  </thead>\n",
              "  <tbody>\n",
              "    <tr>\n",
              "      <th>0</th>\n",
              "      <td>1.0</td>\n",
              "      <td>1983.3</td>\n",
              "      <td>722.489531</td>\n",
              "      <td>0.061487</td>\n",
              "      <td>0.006737</td>\n",
              "      <td>0.052886</td>\n",
              "      <td>0.001645</td>\n",
              "      <td>5.0</td>\n",
              "    </tr>\n",
              "  </tbody>\n",
              "</table>\n",
              "</div>"
            ],
            "text/plain": [
              "   #Experiment  mean(#epochs)  ...  sd(valid loss)  #fails\n",
              "0          1.0         1983.3  ...        0.001645     5.0\n",
              "\n",
              "[1 rows x 8 columns]"
            ]
          },
          "metadata": {}
        }
      ]
    },
    {
      "cell_type": "markdown",
      "metadata": {
        "id": "JhqVXNzBVc5s"
      },
      "source": [
        ">## Experiment number 2:  \n",
        "\n",
        "\n",
        ">*   parameters:  \n",
        "  *   Learning rate (aka. Lamda) = 0.1\n",
        "  *   Number of neurons in the hidden layer = 2  \n",
        "  *   Bypass = True"
      ]
    },
    {
      "cell_type": "code",
      "metadata": {
        "colab": {
          "base_uri": "https://localhost:8080/"
        },
        "id": "3_AVl5y4W7eC",
        "outputId": "20613606-4ca6-4c33-a68b-e564d6aab8ed"
      },
      "source": [
        "num_hidden = 2\n",
        "input_dim = 2\n",
        "learning_rate = 0.1\n",
        "\n",
        "exp2 = experiment(2,num_hidden,True,x_valid,t_valid,learning_rate=0.1)\n",
        "exp2.activate()\n",
        "exp2.print_experiment()\n"
      ],
      "execution_count": null,
      "outputs": [
        {
          "output_type": "stream",
          "name": "stdout",
          "text": [
            "Experiment #2:\n",
            "Number of hidden neurals = 2\tBypass = True\tlearning rate = 0.1\n"
          ]
        },
        {
          "output_type": "display_data",
          "data": {
            "text/html": [
              "<div>\n",
              "<style scoped>\n",
              "    .dataframe tbody tr th:only-of-type {\n",
              "        vertical-align: middle;\n",
              "    }\n",
              "\n",
              "    .dataframe tbody tr th {\n",
              "        vertical-align: top;\n",
              "    }\n",
              "\n",
              "    .dataframe thead th {\n",
              "        text-align: right;\n",
              "    }\n",
              "</style>\n",
              "<table border=\"1\" class=\"dataframe\">\n",
              "  <thead>\n",
              "    <tr style=\"text-align: right;\">\n",
              "      <th></th>\n",
              "      <th>#epochs</th>\n",
              "      <th>loss (Validation)</th>\n",
              "      <th>loss (train)</th>\n",
              "    </tr>\n",
              "  </thead>\n",
              "  <tbody>\n",
              "    <tr>\n",
              "      <th>0</th>\n",
              "      <td>1270.0</td>\n",
              "      <td>0.09105918</td>\n",
              "      <td>0.080463156</td>\n",
              "    </tr>\n",
              "    <tr>\n",
              "      <th>1</th>\n",
              "      <td>1384.0</td>\n",
              "      <td>0.066070504</td>\n",
              "      <td>0.05447952</td>\n",
              "    </tr>\n",
              "    <tr>\n",
              "      <th>2</th>\n",
              "      <td>2434.0</td>\n",
              "      <td>0.09488049</td>\n",
              "      <td>0.084879644</td>\n",
              "    </tr>\n",
              "    <tr>\n",
              "      <th>3</th>\n",
              "      <td>1404.0</td>\n",
              "      <td>0.08803219</td>\n",
              "      <td>0.0767803</td>\n",
              "    </tr>\n",
              "    <tr>\n",
              "      <th>4</th>\n",
              "      <td>1233.0</td>\n",
              "      <td>0.07430051</td>\n",
              "      <td>0.06230154</td>\n",
              "    </tr>\n",
              "    <tr>\n",
              "      <th>5</th>\n",
              "      <td>1364.0</td>\n",
              "      <td>0.09118145</td>\n",
              "      <td>0.08015682</td>\n",
              "    </tr>\n",
              "    <tr>\n",
              "      <th>6</th>\n",
              "      <td>1339.0</td>\n",
              "      <td>0.091910124</td>\n",
              "      <td>0.08055687</td>\n",
              "    </tr>\n",
              "    <tr>\n",
              "      <th>7</th>\n",
              "      <td>1526.0</td>\n",
              "      <td>0.084180966</td>\n",
              "      <td>0.07212111</td>\n",
              "    </tr>\n",
              "    <tr>\n",
              "      <th>8</th>\n",
              "      <td>1304.0</td>\n",
              "      <td>0.08068911</td>\n",
              "      <td>0.06895785</td>\n",
              "    </tr>\n",
              "    <tr>\n",
              "      <th>9</th>\n",
              "      <td>1315.0</td>\n",
              "      <td>0.081803754</td>\n",
              "      <td>0.07035803</td>\n",
              "    </tr>\n",
              "  </tbody>\n",
              "</table>\n",
              "</div>"
            ],
            "text/plain": [
              "   #epochs loss (Validation) loss (train)\n",
              "0   1270.0        0.09105918  0.080463156\n",
              "1   1384.0       0.066070504   0.05447952\n",
              "2   2434.0        0.09488049  0.084879644\n",
              "3   1404.0        0.08803219    0.0767803\n",
              "4   1233.0        0.07430051   0.06230154\n",
              "5   1364.0        0.09118145   0.08015682\n",
              "6   1339.0       0.091910124   0.08055687\n",
              "7   1526.0       0.084180966   0.07212111\n",
              "8   1304.0        0.08068911   0.06895785\n",
              "9   1315.0       0.081803754   0.07035803"
            ]
          },
          "metadata": {}
        },
        {
          "output_type": "display_data",
          "data": {
            "text/html": [
              "<div>\n",
              "<style scoped>\n",
              "    .dataframe tbody tr th:only-of-type {\n",
              "        vertical-align: middle;\n",
              "    }\n",
              "\n",
              "    .dataframe tbody tr th {\n",
              "        vertical-align: top;\n",
              "    }\n",
              "\n",
              "    .dataframe thead th {\n",
              "        text-align: right;\n",
              "    }\n",
              "</style>\n",
              "<table border=\"1\" class=\"dataframe\">\n",
              "  <thead>\n",
              "    <tr style=\"text-align: right;\">\n",
              "      <th></th>\n",
              "      <th>#Experiment</th>\n",
              "      <th>mean(#epochs)</th>\n",
              "      <th>sd(#epochs)</th>\n",
              "      <th>mean(train loss)</th>\n",
              "      <th>sd(train loss)</th>\n",
              "      <th>mean(valid loss)</th>\n",
              "      <th>sd(valid loss)</th>\n",
              "      <th>#fails</th>\n",
              "    </tr>\n",
              "  </thead>\n",
              "  <tbody>\n",
              "    <tr>\n",
              "      <th>0</th>\n",
              "      <td>2.0</td>\n",
              "      <td>1457.3</td>\n",
              "      <td>352.564903</td>\n",
              "      <td>0.073105</td>\n",
              "      <td>0.009433</td>\n",
              "      <td>0.084411</td>\n",
              "      <td>0.008996</td>\n",
              "      <td>0.0</td>\n",
              "    </tr>\n",
              "  </tbody>\n",
              "</table>\n",
              "</div>"
            ],
            "text/plain": [
              "   #Experiment  mean(#epochs)  ...  sd(valid loss)  #fails\n",
              "0          2.0         1457.3  ...        0.008996     0.0\n",
              "\n",
              "[1 rows x 8 columns]"
            ]
          },
          "metadata": {}
        }
      ]
    },
    {
      "cell_type": "markdown",
      "metadata": {
        "id": "nKfbDLOmVuec"
      },
      "source": [
        ">## Experiment number 3:  \n",
        "\n",
        "\n",
        ">*   parameters:  \n",
        "  *   Learning rate (aka. Lamda) = 0.1\n",
        "  *   Number of neurons in the hidden layer = 4 \n",
        "  *   Bypass = False"
      ]
    },
    {
      "cell_type": "code",
      "metadata": {
        "colab": {
          "base_uri": "https://localhost:8080/"
        },
        "id": "r90q9LNvZt4J",
        "outputId": "4121d4b6-f7e0-49de-b52a-c4aabea5256a"
      },
      "source": [
        "num_hidden = 4\n",
        "input_dim = 2\n",
        "learning_rate = 0.1\n",
        "\n",
        "exp3 = experiment(3,num_hidden,False,x_valid,t_valid,learning_rate=0.1)\n",
        "exp3.activate()\n",
        "exp3.print_experiment()\n"
      ],
      "execution_count": null,
      "outputs": [
        {
          "output_type": "stream",
          "name": "stdout",
          "text": [
            "Experiment #3:\n",
            "Number of hidden neurals = 4\tBypass = False\tlearning rate = 0.1\n"
          ]
        },
        {
          "output_type": "display_data",
          "data": {
            "text/html": [
              "<div>\n",
              "<style scoped>\n",
              "    .dataframe tbody tr th:only-of-type {\n",
              "        vertical-align: middle;\n",
              "    }\n",
              "\n",
              "    .dataframe tbody tr th {\n",
              "        vertical-align: top;\n",
              "    }\n",
              "\n",
              "    .dataframe thead th {\n",
              "        text-align: right;\n",
              "    }\n",
              "</style>\n",
              "<table border=\"1\" class=\"dataframe\">\n",
              "  <thead>\n",
              "    <tr style=\"text-align: right;\">\n",
              "      <th></th>\n",
              "      <th>#epochs</th>\n",
              "      <th>loss (Validation)</th>\n",
              "      <th>loss (train)</th>\n",
              "    </tr>\n",
              "  </thead>\n",
              "  <tbody>\n",
              "    <tr>\n",
              "      <th>0</th>\n",
              "      <td>1386.0</td>\n",
              "      <td>0.05167248</td>\n",
              "      <td>0.052943014</td>\n",
              "    </tr>\n",
              "    <tr>\n",
              "      <th>1</th>\n",
              "      <td>1308.0</td>\n",
              "      <td>0.05554059</td>\n",
              "      <td>0.045221124</td>\n",
              "    </tr>\n",
              "    <tr>\n",
              "      <th>2</th>\n",
              "      <td>1729.0</td>\n",
              "      <td>0.05238901</td>\n",
              "      <td>0.05884597</td>\n",
              "    </tr>\n",
              "    <tr>\n",
              "      <th>3</th>\n",
              "      <td>1527.0</td>\n",
              "      <td>0.05568663</td>\n",
              "      <td>0.048425175</td>\n",
              "    </tr>\n",
              "    <tr>\n",
              "      <th>4</th>\n",
              "      <td>1856.0</td>\n",
              "      <td>0.05846904</td>\n",
              "      <td>0.048729267</td>\n",
              "    </tr>\n",
              "    <tr>\n",
              "      <th>5</th>\n",
              "      <td>1487.0</td>\n",
              "      <td>0.057396717</td>\n",
              "      <td>0.04977638</td>\n",
              "    </tr>\n",
              "    <tr>\n",
              "      <th>6</th>\n",
              "      <td>1680.0</td>\n",
              "      <td>0.06327185</td>\n",
              "      <td>0.070454</td>\n",
              "    </tr>\n",
              "    <tr>\n",
              "      <th>7</th>\n",
              "      <td>1147.0</td>\n",
              "      <td>0.05311762</td>\n",
              "      <td>0.057413787</td>\n",
              "    </tr>\n",
              "    <tr>\n",
              "      <th>8</th>\n",
              "      <td>4361.0</td>\n",
              "      <td>0.05356832</td>\n",
              "      <td>0.04520631</td>\n",
              "    </tr>\n",
              "    <tr>\n",
              "      <th>9</th>\n",
              "      <td>1302.0</td>\n",
              "      <td>0.049149975</td>\n",
              "      <td>0.03820796</td>\n",
              "    </tr>\n",
              "  </tbody>\n",
              "</table>\n",
              "</div>"
            ],
            "text/plain": [
              "   #epochs loss (Validation) loss (train)\n",
              "0   1386.0        0.05167248  0.052943014\n",
              "1   1308.0        0.05554059  0.045221124\n",
              "2   1729.0        0.05238901   0.05884597\n",
              "3   1527.0        0.05568663  0.048425175\n",
              "4   1856.0        0.05846904  0.048729267\n",
              "5   1487.0       0.057396717   0.04977638\n",
              "6   1680.0        0.06327185     0.070454\n",
              "7   1147.0        0.05311762  0.057413787\n",
              "8   4361.0        0.05356832   0.04520631\n",
              "9   1302.0       0.049149975   0.03820796"
            ]
          },
          "metadata": {}
        },
        {
          "output_type": "display_data",
          "data": {
            "text/html": [
              "<div>\n",
              "<style scoped>\n",
              "    .dataframe tbody tr th:only-of-type {\n",
              "        vertical-align: middle;\n",
              "    }\n",
              "\n",
              "    .dataframe tbody tr th {\n",
              "        vertical-align: top;\n",
              "    }\n",
              "\n",
              "    .dataframe thead th {\n",
              "        text-align: right;\n",
              "    }\n",
              "</style>\n",
              "<table border=\"1\" class=\"dataframe\">\n",
              "  <thead>\n",
              "    <tr style=\"text-align: right;\">\n",
              "      <th></th>\n",
              "      <th>#Experiment</th>\n",
              "      <th>mean(#epochs)</th>\n",
              "      <th>sd(#epochs)</th>\n",
              "      <th>mean(train loss)</th>\n",
              "      <th>sd(train loss)</th>\n",
              "      <th>mean(valid loss)</th>\n",
              "      <th>sd(valid loss)</th>\n",
              "      <th>#fails</th>\n",
              "    </tr>\n",
              "  </thead>\n",
              "  <tbody>\n",
              "    <tr>\n",
              "      <th>0</th>\n",
              "      <td>3.0</td>\n",
              "      <td>1778.3</td>\n",
              "      <td>933.152369</td>\n",
              "      <td>0.051522</td>\n",
              "      <td>0.008982</td>\n",
              "      <td>0.055026</td>\n",
              "      <td>0.004009</td>\n",
              "      <td>0.0</td>\n",
              "    </tr>\n",
              "  </tbody>\n",
              "</table>\n",
              "</div>"
            ],
            "text/plain": [
              "   #Experiment  mean(#epochs)  ...  sd(valid loss)  #fails\n",
              "0          3.0         1778.3  ...        0.004009     0.0\n",
              "\n",
              "[1 rows x 8 columns]"
            ]
          },
          "metadata": {}
        }
      ]
    },
    {
      "cell_type": "markdown",
      "metadata": {
        "id": "qp_ZdvtYVuDJ"
      },
      "source": [
        ">## Experiment number 4:  \n",
        "\n",
        "\n",
        ">*   parameters:  \n",
        "  *   Learning rate (aka. Lamda) = 0.1\n",
        "  *   Number of neurons in the hidden layer = 4 \n",
        "  *   Bypass = True"
      ]
    },
    {
      "cell_type": "code",
      "metadata": {
        "colab": {
          "base_uri": "https://localhost:8080/",
          "height": 460
        },
        "id": "TZbSY_V8ZxO5",
        "outputId": "d02ec6aa-dc51-4896-e8b5-ed381d4718b9"
      },
      "source": [
        "num_hidden = 4\n",
        "input_dim = 2\n",
        "learning_rate = 0.1\n",
        "\n",
        "exp4 = experiment(4,num_hidden,True,x_valid,t_valid,learning_rate=0.1)\n",
        "exp4.activate()\n",
        "exp4.print_experiment()\n",
        "\n"
      ],
      "execution_count": null,
      "outputs": [
        {
          "output_type": "stream",
          "name": "stdout",
          "text": [
            "Experiment #4:\n",
            "Number of hidden neurals = 4\tBypass = True\tlearning rate = 0.1\n"
          ]
        },
        {
          "output_type": "display_data",
          "data": {
            "text/html": [
              "<div>\n",
              "<style scoped>\n",
              "    .dataframe tbody tr th:only-of-type {\n",
              "        vertical-align: middle;\n",
              "    }\n",
              "\n",
              "    .dataframe tbody tr th {\n",
              "        vertical-align: top;\n",
              "    }\n",
              "\n",
              "    .dataframe thead th {\n",
              "        text-align: right;\n",
              "    }\n",
              "</style>\n",
              "<table border=\"1\" class=\"dataframe\">\n",
              "  <thead>\n",
              "    <tr style=\"text-align: right;\">\n",
              "      <th></th>\n",
              "      <th>#epochs</th>\n",
              "      <th>loss (Validation)</th>\n",
              "      <th>loss (train)</th>\n",
              "    </tr>\n",
              "  </thead>\n",
              "  <tbody>\n",
              "    <tr>\n",
              "      <th>0</th>\n",
              "      <td>1119.0</td>\n",
              "      <td>0.06683402</td>\n",
              "      <td>0.055262223</td>\n",
              "    </tr>\n",
              "    <tr>\n",
              "      <th>1</th>\n",
              "      <td>1249.0</td>\n",
              "      <td>0.06704007</td>\n",
              "      <td>0.05372695</td>\n",
              "    </tr>\n",
              "    <tr>\n",
              "      <th>2</th>\n",
              "      <td>1266.0</td>\n",
              "      <td>0.06535087</td>\n",
              "      <td>0.05171942</td>\n",
              "    </tr>\n",
              "    <tr>\n",
              "      <th>3</th>\n",
              "      <td>1373.0</td>\n",
              "      <td>0.09068373</td>\n",
              "      <td>0.07868158</td>\n",
              "    </tr>\n",
              "    <tr>\n",
              "      <th>4</th>\n",
              "      <td>1296.0</td>\n",
              "      <td>0.09154359</td>\n",
              "      <td>0.080347165</td>\n",
              "    </tr>\n",
              "    <tr>\n",
              "      <th>5</th>\n",
              "      <td>1194.0</td>\n",
              "      <td>0.06548751</td>\n",
              "      <td>0.053302485</td>\n",
              "    </tr>\n",
              "    <tr>\n",
              "      <th>6</th>\n",
              "      <td>1469.0</td>\n",
              "      <td>0.093733974</td>\n",
              "      <td>0.0828109</td>\n",
              "    </tr>\n",
              "    <tr>\n",
              "      <th>7</th>\n",
              "      <td>1657.0</td>\n",
              "      <td>0.09282893</td>\n",
              "      <td>0.08265999</td>\n",
              "    </tr>\n",
              "    <tr>\n",
              "      <th>8</th>\n",
              "      <td>1552.0</td>\n",
              "      <td>0.062122993</td>\n",
              "      <td>0.050407916</td>\n",
              "    </tr>\n",
              "    <tr>\n",
              "      <th>9</th>\n",
              "      <td>1362.0</td>\n",
              "      <td>0.05958707</td>\n",
              "      <td>0.046221405</td>\n",
              "    </tr>\n",
              "  </tbody>\n",
              "</table>\n",
              "</div>"
            ],
            "text/plain": [
              "   #epochs loss (Validation) loss (train)\n",
              "0   1119.0        0.06683402  0.055262223\n",
              "1   1249.0        0.06704007   0.05372695\n",
              "2   1266.0        0.06535087   0.05171942\n",
              "3   1373.0        0.09068373   0.07868158\n",
              "4   1296.0        0.09154359  0.080347165\n",
              "5   1194.0        0.06548751  0.053302485\n",
              "6   1469.0       0.093733974    0.0828109\n",
              "7   1657.0        0.09282893   0.08265999\n",
              "8   1552.0       0.062122993  0.050407916\n",
              "9   1362.0        0.05958707  0.046221405"
            ]
          },
          "metadata": {}
        },
        {
          "output_type": "display_data",
          "data": {
            "text/html": [
              "<div>\n",
              "<style scoped>\n",
              "    .dataframe tbody tr th:only-of-type {\n",
              "        vertical-align: middle;\n",
              "    }\n",
              "\n",
              "    .dataframe tbody tr th {\n",
              "        vertical-align: top;\n",
              "    }\n",
              "\n",
              "    .dataframe thead th {\n",
              "        text-align: right;\n",
              "    }\n",
              "</style>\n",
              "<table border=\"1\" class=\"dataframe\">\n",
              "  <thead>\n",
              "    <tr style=\"text-align: right;\">\n",
              "      <th></th>\n",
              "      <th>#Experiment</th>\n",
              "      <th>mean(#epochs)</th>\n",
              "      <th>sd(#epochs)</th>\n",
              "      <th>mean(train loss)</th>\n",
              "      <th>sd(train loss)</th>\n",
              "      <th>mean(valid loss)</th>\n",
              "      <th>sd(valid loss)</th>\n",
              "      <th>#fails</th>\n",
              "    </tr>\n",
              "  </thead>\n",
              "  <tbody>\n",
              "    <tr>\n",
              "      <th>0</th>\n",
              "      <td>4.0</td>\n",
              "      <td>1353.7</td>\n",
              "      <td>165.87147</td>\n",
              "      <td>0.063514</td>\n",
              "      <td>0.015385</td>\n",
              "      <td>0.075521</td>\n",
              "      <td>0.01454</td>\n",
              "      <td>0.0</td>\n",
              "    </tr>\n",
              "  </tbody>\n",
              "</table>\n",
              "</div>"
            ],
            "text/plain": [
              "   #Experiment  mean(#epochs)  ...  sd(valid loss)  #fails\n",
              "0          4.0         1353.7  ...         0.01454     0.0\n",
              "\n",
              "[1 rows x 8 columns]"
            ]
          },
          "metadata": {}
        }
      ]
    },
    {
      "cell_type": "markdown",
      "metadata": {
        "id": "2ZvDoBjbV29t"
      },
      "source": [
        ">## Experiment number 5:  \n",
        "\n",
        "\n",
        ">*   parameters:  \n",
        "  *   Learning rate (aka. Lamda) = 0.01\n",
        "  *   Number of neurons in the hidden layer = 2\n",
        "  *   Bypass = False"
      ]
    },
    {
      "cell_type": "code",
      "metadata": {
        "colab": {
          "base_uri": "https://localhost:8080/",
          "height": 460
        },
        "id": "0Hzfef0faB5N",
        "outputId": "8ef8d218-a2f9-4a42-b4e9-511e54c034e9"
      },
      "source": [
        "num_hidden = 2\n",
        "input_dim = 2\n",
        "learning_rate = 0.01\n",
        "\n",
        "exp5 = experiment(5,num_hidden,False,x_valid,t_valid,learning_rate = 0.01)\n",
        "exp5.activate()\n",
        "exp5.print_experiment()\n",
        "\n"
      ],
      "execution_count": null,
      "outputs": [
        {
          "output_type": "stream",
          "name": "stdout",
          "text": [
            "Experiment #5:\n",
            "Number of hidden neurals = 2\tBypass = False\tlearning rate = 0.01\n"
          ]
        },
        {
          "output_type": "display_data",
          "data": {
            "text/html": [
              "<div>\n",
              "<style scoped>\n",
              "    .dataframe tbody tr th:only-of-type {\n",
              "        vertical-align: middle;\n",
              "    }\n",
              "\n",
              "    .dataframe tbody tr th {\n",
              "        vertical-align: top;\n",
              "    }\n",
              "\n",
              "    .dataframe thead th {\n",
              "        text-align: right;\n",
              "    }\n",
              "</style>\n",
              "<table border=\"1\" class=\"dataframe\">\n",
              "  <thead>\n",
              "    <tr style=\"text-align: right;\">\n",
              "      <th></th>\n",
              "      <th>#epochs</th>\n",
              "      <th>loss (Validation)</th>\n",
              "      <th>loss (train)</th>\n",
              "    </tr>\n",
              "  </thead>\n",
              "  <tbody>\n",
              "    <tr>\n",
              "      <th>0</th>\n",
              "      <td>10457.0</td>\n",
              "      <td>0.19928797</td>\n",
              "      <td>0.26811308</td>\n",
              "    </tr>\n",
              "    <tr>\n",
              "      <th>1</th>\n",
              "      <td>11609.0</td>\n",
              "      <td>0.19933845</td>\n",
              "      <td>0.26174214</td>\n",
              "    </tr>\n",
              "    <tr>\n",
              "      <th>2</th>\n",
              "      <td>9356.0</td>\n",
              "      <td>0.19918883</td>\n",
              "      <td>0.20924576</td>\n",
              "    </tr>\n",
              "    <tr>\n",
              "      <th>3</th>\n",
              "      <td>9251.0</td>\n",
              "      <td>0.19944583</td>\n",
              "      <td>0.19975716</td>\n",
              "    </tr>\n",
              "    <tr>\n",
              "      <th>4</th>\n",
              "      <td>12958.0</td>\n",
              "      <td>0.19924182</td>\n",
              "      <td>0.25690523</td>\n",
              "    </tr>\n",
              "    <tr>\n",
              "      <th>5</th>\n",
              "      <td>10319.0</td>\n",
              "      <td>0.19914946</td>\n",
              "      <td>0.20810196</td>\n",
              "    </tr>\n",
              "    <tr>\n",
              "      <th>6</th>\n",
              "      <td>11009.0</td>\n",
              "      <td>0.1992333</td>\n",
              "      <td>0.24267519</td>\n",
              "    </tr>\n",
              "    <tr>\n",
              "      <th>7</th>\n",
              "      <td>13539.0</td>\n",
              "      <td>0.1994539</td>\n",
              "      <td>0.20037605</td>\n",
              "    </tr>\n",
              "    <tr>\n",
              "      <th>8</th>\n",
              "      <td>14657.0</td>\n",
              "      <td>0.19916347</td>\n",
              "      <td>0.19977441</td>\n",
              "    </tr>\n",
              "    <tr>\n",
              "      <th>9</th>\n",
              "      <td>9692.0</td>\n",
              "      <td>0.1992733</td>\n",
              "      <td>0.25807893</td>\n",
              "    </tr>\n",
              "  </tbody>\n",
              "</table>\n",
              "</div>"
            ],
            "text/plain": [
              "   #epochs loss (Validation) loss (train)\n",
              "0  10457.0        0.19928797   0.26811308\n",
              "1  11609.0        0.19933845   0.26174214\n",
              "2   9356.0        0.19918883   0.20924576\n",
              "3   9251.0        0.19944583   0.19975716\n",
              "4  12958.0        0.19924182   0.25690523\n",
              "5  10319.0        0.19914946   0.20810196\n",
              "6  11009.0         0.1992333   0.24267519\n",
              "7  13539.0         0.1994539   0.20037605\n",
              "8  14657.0        0.19916347   0.19977441\n",
              "9   9692.0         0.1992733   0.25807893"
            ]
          },
          "metadata": {}
        },
        {
          "output_type": "display_data",
          "data": {
            "text/html": [
              "<div>\n",
              "<style scoped>\n",
              "    .dataframe tbody tr th:only-of-type {\n",
              "        vertical-align: middle;\n",
              "    }\n",
              "\n",
              "    .dataframe tbody tr th {\n",
              "        vertical-align: top;\n",
              "    }\n",
              "\n",
              "    .dataframe thead th {\n",
              "        text-align: right;\n",
              "    }\n",
              "</style>\n",
              "<table border=\"1\" class=\"dataframe\">\n",
              "  <thead>\n",
              "    <tr style=\"text-align: right;\">\n",
              "      <th></th>\n",
              "      <th>#Experiment</th>\n",
              "      <th>mean(#epochs)</th>\n",
              "      <th>sd(#epochs)</th>\n",
              "      <th>mean(train loss)</th>\n",
              "      <th>sd(train loss)</th>\n",
              "      <th>mean(valid loss)</th>\n",
              "      <th>sd(valid loss)</th>\n",
              "      <th>#fails</th>\n",
              "    </tr>\n",
              "  </thead>\n",
              "  <tbody>\n",
              "    <tr>\n",
              "      <th>0</th>\n",
              "      <td>5.0</td>\n",
              "      <td>11284.7</td>\n",
              "      <td>1869.211542</td>\n",
              "      <td>0.230477</td>\n",
              "      <td>0.029339</td>\n",
              "      <td>0.199278</td>\n",
              "      <td>0.000107</td>\n",
              "      <td>12.0</td>\n",
              "    </tr>\n",
              "  </tbody>\n",
              "</table>\n",
              "</div>"
            ],
            "text/plain": [
              "   #Experiment  mean(#epochs)  ...  sd(valid loss)  #fails\n",
              "0          5.0        11284.7  ...        0.000107    12.0\n",
              "\n",
              "[1 rows x 8 columns]"
            ]
          },
          "metadata": {}
        }
      ]
    },
    {
      "cell_type": "markdown",
      "metadata": {
        "id": "yRftWaEvWIal"
      },
      "source": [
        ">## Experiment number 6:  \n",
        "\n",
        "\n",
        ">*   parameters:  \n",
        "  *   Learning rate (aka. Lamda) = 0.01\n",
        "  *   Number of neurons in the hidden layer = 2\n",
        "  *   Bypass =  True"
      ]
    },
    {
      "cell_type": "code",
      "metadata": {
        "colab": {
          "base_uri": "https://localhost:8080/",
          "height": 460
        },
        "id": "RMjM7vAcaYRR",
        "outputId": "da4a81af-8e3f-4bb7-8d85-b80335bfe318"
      },
      "source": [
        "num_hidden = 2\n",
        "input_dim = 2\n",
        "learning_rate = 0.01\n",
        "\n",
        "exp6 = experiment(6,num_hidden,True,x_valid,t_valid,learning_rate = 0.01)\n",
        "exp6.activate()\n",
        "exp6.print_experiment()"
      ],
      "execution_count": null,
      "outputs": [
        {
          "output_type": "stream",
          "name": "stdout",
          "text": [
            "Experiment #6:\n",
            "Number of hidden neurals = 2\tBypass = True\tlearning rate = 0.01\n"
          ]
        },
        {
          "output_type": "display_data",
          "data": {
            "text/html": [
              "<div>\n",
              "<style scoped>\n",
              "    .dataframe tbody tr th:only-of-type {\n",
              "        vertical-align: middle;\n",
              "    }\n",
              "\n",
              "    .dataframe tbody tr th {\n",
              "        vertical-align: top;\n",
              "    }\n",
              "\n",
              "    .dataframe thead th {\n",
              "        text-align: right;\n",
              "    }\n",
              "</style>\n",
              "<table border=\"1\" class=\"dataframe\">\n",
              "  <thead>\n",
              "    <tr style=\"text-align: right;\">\n",
              "      <th></th>\n",
              "      <th>#epochs</th>\n",
              "      <th>loss (Validation)</th>\n",
              "      <th>loss (train)</th>\n",
              "    </tr>\n",
              "  </thead>\n",
              "  <tbody>\n",
              "    <tr>\n",
              "      <th>0</th>\n",
              "      <td>7479.0</td>\n",
              "      <td>0.19952731</td>\n",
              "      <td>0.19222386</td>\n",
              "    </tr>\n",
              "    <tr>\n",
              "      <th>1</th>\n",
              "      <td>23911.0</td>\n",
              "      <td>0.1994917</td>\n",
              "      <td>0.18744598</td>\n",
              "    </tr>\n",
              "    <tr>\n",
              "      <th>2</th>\n",
              "      <td>8817.0</td>\n",
              "      <td>0.19956948</td>\n",
              "      <td>0.1933888</td>\n",
              "    </tr>\n",
              "    <tr>\n",
              "      <th>3</th>\n",
              "      <td>7067.0</td>\n",
              "      <td>0.19962767</td>\n",
              "      <td>0.19604298</td>\n",
              "    </tr>\n",
              "    <tr>\n",
              "      <th>4</th>\n",
              "      <td>7440.0</td>\n",
              "      <td>0.19960713</td>\n",
              "      <td>0.1958009</td>\n",
              "    </tr>\n",
              "    <tr>\n",
              "      <th>5</th>\n",
              "      <td>7518.0</td>\n",
              "      <td>0.19939116</td>\n",
              "      <td>0.1894746</td>\n",
              "    </tr>\n",
              "    <tr>\n",
              "      <th>6</th>\n",
              "      <td>8922.0</td>\n",
              "      <td>0.19956982</td>\n",
              "      <td>0.19388118</td>\n",
              "    </tr>\n",
              "    <tr>\n",
              "      <th>7</th>\n",
              "      <td>8397.0</td>\n",
              "      <td>0.19947653</td>\n",
              "      <td>0.18718779</td>\n",
              "    </tr>\n",
              "    <tr>\n",
              "      <th>8</th>\n",
              "      <td>7443.0</td>\n",
              "      <td>0.19939455</td>\n",
              "      <td>0.18615063</td>\n",
              "    </tr>\n",
              "    <tr>\n",
              "      <th>9</th>\n",
              "      <td>10324.0</td>\n",
              "      <td>0.19963029</td>\n",
              "      <td>0.19235787</td>\n",
              "    </tr>\n",
              "  </tbody>\n",
              "</table>\n",
              "</div>"
            ],
            "text/plain": [
              "   #epochs loss (Validation) loss (train)\n",
              "0   7479.0        0.19952731   0.19222386\n",
              "1  23911.0         0.1994917   0.18744598\n",
              "2   8817.0        0.19956948    0.1933888\n",
              "3   7067.0        0.19962767   0.19604298\n",
              "4   7440.0        0.19960713    0.1958009\n",
              "5   7518.0        0.19939116    0.1894746\n",
              "6   8922.0        0.19956982   0.19388118\n",
              "7   8397.0        0.19947653   0.18718779\n",
              "8   7443.0        0.19939455   0.18615063\n",
              "9  10324.0        0.19963029   0.19235787"
            ]
          },
          "metadata": {}
        },
        {
          "output_type": "display_data",
          "data": {
            "text/html": [
              "<div>\n",
              "<style scoped>\n",
              "    .dataframe tbody tr th:only-of-type {\n",
              "        vertical-align: middle;\n",
              "    }\n",
              "\n",
              "    .dataframe tbody tr th {\n",
              "        vertical-align: top;\n",
              "    }\n",
              "\n",
              "    .dataframe thead th {\n",
              "        text-align: right;\n",
              "    }\n",
              "</style>\n",
              "<table border=\"1\" class=\"dataframe\">\n",
              "  <thead>\n",
              "    <tr style=\"text-align: right;\">\n",
              "      <th></th>\n",
              "      <th>#Experiment</th>\n",
              "      <th>mean(#epochs)</th>\n",
              "      <th>sd(#epochs)</th>\n",
              "      <th>mean(train loss)</th>\n",
              "      <th>sd(train loss)</th>\n",
              "      <th>mean(valid loss)</th>\n",
              "      <th>sd(valid loss)</th>\n",
              "      <th>#fails</th>\n",
              "    </tr>\n",
              "  </thead>\n",
              "  <tbody>\n",
              "    <tr>\n",
              "      <th>0</th>\n",
              "      <td>6.0</td>\n",
              "      <td>9731.8</td>\n",
              "      <td>5079.838904</td>\n",
              "      <td>0.191395</td>\n",
              "      <td>0.00361</td>\n",
              "      <td>0.199529</td>\n",
              "      <td>0.000089</td>\n",
              "      <td>0.0</td>\n",
              "    </tr>\n",
              "  </tbody>\n",
              "</table>\n",
              "</div>"
            ],
            "text/plain": [
              "   #Experiment  mean(#epochs)  ...  sd(valid loss)  #fails\n",
              "0          6.0         9731.8  ...        0.000089     0.0\n",
              "\n",
              "[1 rows x 8 columns]"
            ]
          },
          "metadata": {}
        }
      ]
    },
    {
      "cell_type": "markdown",
      "metadata": {
        "id": "8x10uDdnWL1N"
      },
      "source": [
        ">## Experiment number 7:  \n",
        "\n",
        "\n",
        ">*   parameters:  \n",
        "  *   Learning rate (aka. Lamda) = 0.01\n",
        "  *   Number of neurons in the hidden layer = 4\n",
        "  *   Bypass =  False"
      ]
    },
    {
      "cell_type": "code",
      "metadata": {
        "colab": {
          "base_uri": "https://localhost:8080/",
          "height": 460
        },
        "id": "uAvsWiq9afht",
        "outputId": "ab027e1b-edc3-4920-e235-c9e495a64bc9"
      },
      "source": [
        "num_hidden = 4\n",
        "input_dim = 2\n",
        "learning_rate = 0.01\n",
        "\n",
        "exp7 = experiment(7,num_hidden,False,x_valid,t_valid,learning_rate = 0.01)\n",
        "exp7.activate()\n",
        "exp7.print_experiment()\n",
        "\n"
      ],
      "execution_count": null,
      "outputs": [
        {
          "output_type": "stream",
          "name": "stdout",
          "text": [
            "Experiment #7:\n",
            "Number of hidden neurals = 4\tBypass = False\tlearning rate = 0.01\n"
          ]
        },
        {
          "output_type": "display_data",
          "data": {
            "text/html": [
              "<div>\n",
              "<style scoped>\n",
              "    .dataframe tbody tr th:only-of-type {\n",
              "        vertical-align: middle;\n",
              "    }\n",
              "\n",
              "    .dataframe tbody tr th {\n",
              "        vertical-align: top;\n",
              "    }\n",
              "\n",
              "    .dataframe thead th {\n",
              "        text-align: right;\n",
              "    }\n",
              "</style>\n",
              "<table border=\"1\" class=\"dataframe\">\n",
              "  <thead>\n",
              "    <tr style=\"text-align: right;\">\n",
              "      <th></th>\n",
              "      <th>#epochs</th>\n",
              "      <th>loss (Validation)</th>\n",
              "      <th>loss (train)</th>\n",
              "    </tr>\n",
              "  </thead>\n",
              "  <tbody>\n",
              "    <tr>\n",
              "      <th>0</th>\n",
              "      <td>7450.0</td>\n",
              "      <td>0.1992138</td>\n",
              "      <td>0.17666197</td>\n",
              "    </tr>\n",
              "    <tr>\n",
              "      <th>1</th>\n",
              "      <td>8456.0</td>\n",
              "      <td>0.199215</td>\n",
              "      <td>0.17959322</td>\n",
              "    </tr>\n",
              "    <tr>\n",
              "      <th>2</th>\n",
              "      <td>8658.0</td>\n",
              "      <td>0.19917274</td>\n",
              "      <td>0.17689054</td>\n",
              "    </tr>\n",
              "    <tr>\n",
              "      <th>3</th>\n",
              "      <td>8300.0</td>\n",
              "      <td>0.19917294</td>\n",
              "      <td>0.175449</td>\n",
              "    </tr>\n",
              "    <tr>\n",
              "      <th>4</th>\n",
              "      <td>7128.0</td>\n",
              "      <td>0.19922358</td>\n",
              "      <td>0.21197282</td>\n",
              "    </tr>\n",
              "    <tr>\n",
              "      <th>5</th>\n",
              "      <td>8684.0</td>\n",
              "      <td>0.19924182</td>\n",
              "      <td>0.17805445</td>\n",
              "    </tr>\n",
              "    <tr>\n",
              "      <th>6</th>\n",
              "      <td>7197.0</td>\n",
              "      <td>0.1992245</td>\n",
              "      <td>0.17498854</td>\n",
              "    </tr>\n",
              "    <tr>\n",
              "      <th>7</th>\n",
              "      <td>8027.0</td>\n",
              "      <td>0.19908606</td>\n",
              "      <td>0.21602584</td>\n",
              "    </tr>\n",
              "    <tr>\n",
              "      <th>8</th>\n",
              "      <td>9243.0</td>\n",
              "      <td>0.19921792</td>\n",
              "      <td>0.2415969</td>\n",
              "    </tr>\n",
              "    <tr>\n",
              "      <th>9</th>\n",
              "      <td>9306.0</td>\n",
              "      <td>0.19929498</td>\n",
              "      <td>0.19965015</td>\n",
              "    </tr>\n",
              "  </tbody>\n",
              "</table>\n",
              "</div>"
            ],
            "text/plain": [
              "   #epochs loss (Validation) loss (train)\n",
              "0   7450.0         0.1992138   0.17666197\n",
              "1   8456.0          0.199215   0.17959322\n",
              "2   8658.0        0.19917274   0.17689054\n",
              "3   8300.0        0.19917294     0.175449\n",
              "4   7128.0        0.19922358   0.21197282\n",
              "5   8684.0        0.19924182   0.17805445\n",
              "6   7197.0         0.1992245   0.17498854\n",
              "7   8027.0        0.19908606   0.21602584\n",
              "8   9243.0        0.19921792    0.2415969\n",
              "9   9306.0        0.19929498   0.19965015"
            ]
          },
          "metadata": {}
        },
        {
          "output_type": "display_data",
          "data": {
            "text/html": [
              "<div>\n",
              "<style scoped>\n",
              "    .dataframe tbody tr th:only-of-type {\n",
              "        vertical-align: middle;\n",
              "    }\n",
              "\n",
              "    .dataframe tbody tr th {\n",
              "        vertical-align: top;\n",
              "    }\n",
              "\n",
              "    .dataframe thead th {\n",
              "        text-align: right;\n",
              "    }\n",
              "</style>\n",
              "<table border=\"1\" class=\"dataframe\">\n",
              "  <thead>\n",
              "    <tr style=\"text-align: right;\">\n",
              "      <th></th>\n",
              "      <th>#Experiment</th>\n",
              "      <th>mean(#epochs)</th>\n",
              "      <th>sd(#epochs)</th>\n",
              "      <th>mean(train loss)</th>\n",
              "      <th>sd(train loss)</th>\n",
              "      <th>mean(valid loss)</th>\n",
              "      <th>sd(valid loss)</th>\n",
              "      <th>#fails</th>\n",
              "    </tr>\n",
              "  </thead>\n",
              "  <tbody>\n",
              "    <tr>\n",
              "      <th>0</th>\n",
              "      <td>7.0</td>\n",
              "      <td>8244.9</td>\n",
              "      <td>785.854305</td>\n",
              "      <td>0.193088</td>\n",
              "      <td>0.023233</td>\n",
              "      <td>0.199206</td>\n",
              "      <td>0.000054</td>\n",
              "      <td>0.0</td>\n",
              "    </tr>\n",
              "  </tbody>\n",
              "</table>\n",
              "</div>"
            ],
            "text/plain": [
              "   #Experiment  mean(#epochs)  ...  sd(valid loss)  #fails\n",
              "0          7.0         8244.9  ...        0.000054     0.0\n",
              "\n",
              "[1 rows x 8 columns]"
            ]
          },
          "metadata": {}
        }
      ]
    },
    {
      "cell_type": "markdown",
      "metadata": {
        "id": "VLFuKNgmWIFl"
      },
      "source": [
        ">## Experiment number 8:  \n",
        "\n",
        "\n",
        ">*   parameters:  \n",
        "  *   Learning rate (aka. Lamda) = 0.01\n",
        "  *   Number of neurons in the hidden layer = 4\n",
        "  *   Bypass =  True"
      ]
    },
    {
      "cell_type": "code",
      "metadata": {
        "colab": {
          "base_uri": "https://localhost:8080/",
          "height": 460
        },
        "id": "BOz4AFD-anDV",
        "outputId": "1688f8b0-450f-4333-e785-73ce1c1b135a"
      },
      "source": [
        "num_hidden = 4\n",
        "input_dim = 2\n",
        "learning_rate = 0.01\n",
        "\n",
        "exp8 = experiment(8,num_hidden,True,x_valid,t_valid,learning_rate = 0.01)\n",
        "exp8.activate()\n",
        "exp8.print_experiment()\n",
        "\n"
      ],
      "execution_count": null,
      "outputs": [
        {
          "output_type": "stream",
          "name": "stdout",
          "text": [
            "Experiment #8:\n",
            "Number of hidden neurals = 4\tBypass = True\tlearning rate = 0.01\n"
          ]
        },
        {
          "output_type": "display_data",
          "data": {
            "text/html": [
              "<div>\n",
              "<style scoped>\n",
              "    .dataframe tbody tr th:only-of-type {\n",
              "        vertical-align: middle;\n",
              "    }\n",
              "\n",
              "    .dataframe tbody tr th {\n",
              "        vertical-align: top;\n",
              "    }\n",
              "\n",
              "    .dataframe thead th {\n",
              "        text-align: right;\n",
              "    }\n",
              "</style>\n",
              "<table border=\"1\" class=\"dataframe\">\n",
              "  <thead>\n",
              "    <tr style=\"text-align: right;\">\n",
              "      <th></th>\n",
              "      <th>#epochs</th>\n",
              "      <th>loss (Validation)</th>\n",
              "      <th>loss (train)</th>\n",
              "    </tr>\n",
              "  </thead>\n",
              "  <tbody>\n",
              "    <tr>\n",
              "      <th>0</th>\n",
              "      <td>9940.0</td>\n",
              "      <td>0.19957152</td>\n",
              "      <td>0.19249201</td>\n",
              "    </tr>\n",
              "    <tr>\n",
              "      <th>1</th>\n",
              "      <td>6321.0</td>\n",
              "      <td>0.19959739</td>\n",
              "      <td>0.19175534</td>\n",
              "    </tr>\n",
              "    <tr>\n",
              "      <th>2</th>\n",
              "      <td>7947.0</td>\n",
              "      <td>0.19958891</td>\n",
              "      <td>0.1927345</td>\n",
              "    </tr>\n",
              "    <tr>\n",
              "      <th>3</th>\n",
              "      <td>8033.0</td>\n",
              "      <td>0.19952479</td>\n",
              "      <td>0.19081141</td>\n",
              "    </tr>\n",
              "    <tr>\n",
              "      <th>4</th>\n",
              "      <td>6260.0</td>\n",
              "      <td>0.19953202</td>\n",
              "      <td>0.18707706</td>\n",
              "    </tr>\n",
              "    <tr>\n",
              "      <th>5</th>\n",
              "      <td>6559.0</td>\n",
              "      <td>0.19944577</td>\n",
              "      <td>0.18582007</td>\n",
              "    </tr>\n",
              "    <tr>\n",
              "      <th>6</th>\n",
              "      <td>7667.0</td>\n",
              "      <td>0.19960345</td>\n",
              "      <td>0.18967015</td>\n",
              "    </tr>\n",
              "    <tr>\n",
              "      <th>7</th>\n",
              "      <td>7910.0</td>\n",
              "      <td>0.19946127</td>\n",
              "      <td>0.18557858</td>\n",
              "    </tr>\n",
              "    <tr>\n",
              "      <th>8</th>\n",
              "      <td>10235.0</td>\n",
              "      <td>0.19963571</td>\n",
              "      <td>0.19140932</td>\n",
              "    </tr>\n",
              "    <tr>\n",
              "      <th>9</th>\n",
              "      <td>5828.0</td>\n",
              "      <td>0.19941485</td>\n",
              "      <td>0.18716758</td>\n",
              "    </tr>\n",
              "  </tbody>\n",
              "</table>\n",
              "</div>"
            ],
            "text/plain": [
              "   #epochs loss (Validation) loss (train)\n",
              "0   9940.0        0.19957152   0.19249201\n",
              "1   6321.0        0.19959739   0.19175534\n",
              "2   7947.0        0.19958891    0.1927345\n",
              "3   8033.0        0.19952479   0.19081141\n",
              "4   6260.0        0.19953202   0.18707706\n",
              "5   6559.0        0.19944577   0.18582007\n",
              "6   7667.0        0.19960345   0.18967015\n",
              "7   7910.0        0.19946127   0.18557858\n",
              "8  10235.0        0.19963571   0.19140932\n",
              "9   5828.0        0.19941485   0.18716758"
            ]
          },
          "metadata": {}
        },
        {
          "output_type": "display_data",
          "data": {
            "text/html": [
              "<div>\n",
              "<style scoped>\n",
              "    .dataframe tbody tr th:only-of-type {\n",
              "        vertical-align: middle;\n",
              "    }\n",
              "\n",
              "    .dataframe tbody tr th {\n",
              "        vertical-align: top;\n",
              "    }\n",
              "\n",
              "    .dataframe thead th {\n",
              "        text-align: right;\n",
              "    }\n",
              "</style>\n",
              "<table border=\"1\" class=\"dataframe\">\n",
              "  <thead>\n",
              "    <tr style=\"text-align: right;\">\n",
              "      <th></th>\n",
              "      <th>#Experiment</th>\n",
              "      <th>mean(#epochs)</th>\n",
              "      <th>sd(#epochs)</th>\n",
              "      <th>mean(train loss)</th>\n",
              "      <th>sd(train loss)</th>\n",
              "      <th>mean(valid loss)</th>\n",
              "      <th>sd(valid loss)</th>\n",
              "      <th>#fails</th>\n",
              "    </tr>\n",
              "  </thead>\n",
              "  <tbody>\n",
              "    <tr>\n",
              "      <th>0</th>\n",
              "      <td>8.0</td>\n",
              "      <td>7670.0</td>\n",
              "      <td>1506.777946</td>\n",
              "      <td>0.189452</td>\n",
              "      <td>0.002791</td>\n",
              "      <td>0.199538</td>\n",
              "      <td>0.000075</td>\n",
              "      <td>0.0</td>\n",
              "    </tr>\n",
              "  </tbody>\n",
              "</table>\n",
              "</div>"
            ],
            "text/plain": [
              "   #Experiment  mean(#epochs)  ...  sd(valid loss)  #fails\n",
              "0          8.0         7670.0  ...        0.000075     0.0\n",
              "\n",
              "[1 rows x 8 columns]"
            ]
          },
          "metadata": {}
        }
      ]
    },
    {
      "cell_type": "markdown",
      "metadata": {
        "id": "i8ZvF3U8WZuK"
      },
      "source": [
        ">## Experiment number 9:  \n",
        "\n",
        "\n",
        ">*   parameters:  \n",
        "  *   Learning rate (aka. Lamda) = 0.2\n",
        "  *   Number of neurons in the hidden layer = 1\n",
        "  *   Bypass =  True"
      ]
    },
    {
      "cell_type": "code",
      "metadata": {
        "colab": {
          "base_uri": "https://localhost:8080/",
          "height": 1000
        },
        "id": "rvt09b_scyOS",
        "outputId": "6aa5edac-89ce-407b-c7d5-d362fb3d843e"
      },
      "source": [
        "num_hidden = 1\n",
        "input_dim = 2\n",
        "learning_rate = 0.2\n",
        "\n",
        "exp9 = experiment(9,num_hidden,True,x_valid,t_valid,learning_rate = 0.2)\n",
        "exp9.activate()\n",
        "exp9.print_experiment()"
      ],
      "execution_count": null,
      "outputs": [
        {
          "output_type": "stream",
          "name": "stdout",
          "text": [
            "+--------------+---------+----------+-------------------------+-------------+--------------+----------------+\n",
            "|  Layer name  | #in dim | #out dim |        Vector(w)        |  Vector(x)  |  Vector(b)   |   Vector(z)    |\n",
            "+--------------+---------+----------+-------------------------+-------------+--------------+----------------+\n",
            "| Hidden Layer |    2    |    1     | [[3.5905318 3.7107244]] |  [[0.  0. ] | [-1.5345471] | [[-1.5340666]  |\n",
            "|              |         |          |                         |   [0.  1. ] |              |  [ 2.1756954]  |\n",
            "|              |         |          |                         |   [1.  0. ] |              |  [ 2.055573 ]  |\n",
            "|              |         |          |                         |   [1.  1. ] |              |  [ 5.7653346]  |\n",
            "|              |         |          |                         |   [1.  0.1] |              |  [ 2.4265494]  |\n",
            "|              |         |          |                         |   [1.  0.9] |              |  [ 5.3943586]  |\n",
            "|              |         |          |                         |   [0.9 0.9] |              |  [ 5.0353947]  |\n",
            "|              |         |          |                         |  [0.1 0.9]] |              |  [ 2.163683 ]] |\n",
            "+--------------+---------+----------+-------------------------+-------------+--------------+----------------+\n",
            "+--------------+---------+----------+-------------------------+-------------+--------------+----------------+\n",
            "|  Layer name  | #in dim | #out dim |        Vector(w)        |  Vector(x)  |  Vector(b)   |   Vector(z)    |\n",
            "+--------------+---------+----------+-------------------------+-------------+--------------+----------------+\n",
            "| Hidden Layer |    2    |    1     | [[3.5834029 3.7098124]] |  [[0.  0. ] | [-1.5322188] | [[-1.5317357]  |\n",
            "|              |         |          |                         |   [0.  1. ] |              |  [ 2.1771152]  |\n",
            "|              |         |          |                         |   [1.  0. ] |              |  [ 2.0507667]  |\n",
            "|              |         |          |                         |   [1.  1. ] |              |  [ 5.759618 ]  |\n",
            "|              |         |          |                         |   [1.  0.1] |              |  [ 2.4216518]  |\n",
            "|              |         |          |                         |   [1.  0.9] |              |  [ 5.388733 ]  |\n",
            "|              |         |          |                         |   [0.9 0.9] |              |  [ 5.0304823]  |\n",
            "|              |         |          |                         |  [0.1 0.9]] |              |  [ 2.1644802]] |\n",
            "+--------------+---------+----------+-------------------------+-------------+--------------+----------------+\n",
            "+--------------+---------+----------+-------------------------+-------------+--------------+----------------+\n",
            "|  Layer name  | #in dim | #out dim |        Vector(w)        |  Vector(x)  |  Vector(b)   |   Vector(z)    |\n",
            "+--------------+---------+----------+-------------------------+-------------+--------------+----------------+\n",
            "| Hidden Layer |    2    |    1     | [[3.5818167 3.7063522]] |  [[0.  0. ] | [-1.5308083] | [[-1.5303239]  |\n",
            "|              |         |          |                         |   [0.  1. ] |              |  [ 2.1750631]  |\n",
            "|              |         |          |                         |   [1.  0. ] |              |  [ 2.050591 ]  |\n",
            "|              |         |          |                         |   [1.  1. ] |              |  [ 5.7559776]  |\n",
            "|              |         |          |                         |   [1.  0.1] |              |  [ 2.4211297]  |\n",
            "|              |         |          |                         |   [1.  0.9] |              |  [ 5.385439 ]  |\n",
            "|              |         |          |                         |   [0.9 0.9] |              |  [ 5.0273476]  |\n",
            "|              |         |          |                         |  [0.1 0.9]] |              |  [ 2.1626158]] |\n",
            "+--------------+---------+----------+-------------------------+-------------+--------------+----------------+\n",
            "+--------------+---------+----------+-------------------------+-------------+--------------+----------------+\n",
            "|  Layer name  | #in dim | #out dim |        Vector(w)        |  Vector(x)  |  Vector(b)   |   Vector(z)    |\n",
            "+--------------+---------+----------+-------------------------+-------------+--------------+----------------+\n",
            "| Hidden Layer |    2    |    1     | [[3.5852315 3.7056181]] |  [[0.  0. ] | [-1.5314856] | [[-1.531002 ]  |\n",
            "|              |         |          |                         |   [0.  1. ] |              |  [ 2.1736495]  |\n",
            "|              |         |          |                         |   [1.  0. ] |              |  [ 2.0533328]  |\n",
            "|              |         |          |                         |   [1.  1. ] |              |  [ 5.757984 ]  |\n",
            "|              |         |          |                         |   [1.  0.1] |              |  [ 2.423798 ]  |\n",
            "|              |         |          |                         |   [1.  0.9] |              |  [ 5.387519 ]  |\n",
            "|              |         |          |                         |   [0.9 0.9] |              |  [ 5.0290856]  |\n",
            "|              |         |          |                         |  [0.1 0.9]] |              |  [ 2.1616178]] |\n",
            "+--------------+---------+----------+-------------------------+-------------+--------------+----------------+\n",
            "+--------------+---------+----------+-------------------------+-------------+-------------+----------------+\n",
            "|  Layer name  | #in dim | #out dim |        Vector(w)        |  Vector(x)  |  Vector(b)  |   Vector(z)    |\n",
            "+--------------+---------+----------+-------------------------+-------------+-------------+----------------+\n",
            "| Hidden Layer |    2    |    1     | [[3.5895984 3.7141821]] |  [[0.  0. ] | [-1.535278] | [[-1.5347979]  |\n",
            "|              |         |          |                         |   [0.  1. ] |             |  [ 2.1784263]  |\n",
            "|              |         |          |                         |   [1.  0. ] |             |  [ 2.0539062]  |\n",
            "|              |         |          |                         |   [1.  1. ] |             |  [ 5.767131 ]  |\n",
            "|              |         |          |                         |   [1.  0.1] |             |  [ 2.4252286]  |\n",
            "|              |         |          |                         |   [1.  0.9] |             |  [ 5.395808 ]  |\n",
            "|              |         |          |                         |   [0.9 0.9] |             |  [ 5.0369377]  |\n",
            "|              |         |          |                         |  [0.1 0.9]] |             |  [ 2.1659744]] |\n",
            "+--------------+---------+----------+-------------------------+-------------+-------------+----------------+\n",
            "+--------------+---------+----------+-------------------------+-------------+--------------+----------------+\n",
            "|  Layer name  | #in dim | #out dim |        Vector(w)        |  Vector(x)  |  Vector(b)   |   Vector(z)    |\n",
            "+--------------+---------+----------+-------------------------+-------------+--------------+----------------+\n",
            "| Hidden Layer |    2    |    1     | [[3.5832925 3.7064316]] |  [[0.  0. ] | [-1.5312494] | [[-1.5307655]  |\n",
            "|              |         |          |                         |   [0.  1. ] |              |  [ 2.1747007]  |\n",
            "|              |         |          |                         |   [1.  0. ] |              |  [ 2.0516274]  |\n",
            "|              |         |          |                         |   [1.  1. ] |              |  [ 5.7570934]  |\n",
            "|              |         |          |                         |   [1.  0.1] |              |  [ 2.422174 ]  |\n",
            "|              |         |          |                         |   [1.  0.9] |              |  [ 5.386547 ]  |\n",
            "|              |         |          |                         |   [0.9 0.9] |              |  [ 5.0283074]  |\n",
            "|              |         |          |                         |  [0.1 0.9]] |              |  [ 2.162393 ]] |\n",
            "+--------------+---------+----------+-------------------------+-------------+--------------+----------------+\n",
            "+--------------+---------+----------+-------------------------+-------------+--------------+----------------+\n",
            "|  Layer name  | #in dim | #out dim |        Vector(w)        |  Vector(x)  |  Vector(b)   |   Vector(z)    |\n",
            "+--------------+---------+----------+-------------------------+-------------+--------------+----------------+\n",
            "| Hidden Layer |    2    |    1     | [[3.5785568 3.6996295]] |  [[0.  0. ] | [-1.5277896] | [[-1.5273023]  |\n",
            "|              |         |          |                         |   [0.  1. ] |              |  [ 2.1713557]  |\n",
            "|              |         |          |                         |   [1.  0. ] |              |  [ 2.0503516]  |\n",
            "|              |         |          |                         |   [1.  1. ] |              |  [ 5.7490096]  |\n",
            "|              |         |          |                         |   [1.  0.1] |              |  [ 2.4202175]  |\n",
            "|              |         |          |                         |   [1.  0.9] |              |  [ 5.3791437]  |\n",
            "|              |         |          |                         |   [0.9 0.9] |              |  [ 5.021378 ]  |\n",
            "|              |         |          |                         |  [0.1 0.9]] |              |  [ 2.1592553]] |\n",
            "+--------------+---------+----------+-------------------------+-------------+--------------+----------------+\n",
            "+--------------+---------+----------+-------------------------+-------------+--------------+----------------+\n",
            "|  Layer name  | #in dim | #out dim |        Vector(w)        |  Vector(x)  |  Vector(b)   |   Vector(z)    |\n",
            "+--------------+---------+----------+-------------------------+-------------+--------------+----------------+\n",
            "| Hidden Layer |    2    |    1     | [[3.5641353 3.6876376]] |  [[0.  0. ] | [-1.5200368] | [[-1.5195416]  |\n",
            "|              |         |          |                         |   [0.  1. ] |              |  [ 2.1671143]  |\n",
            "|              |         |          |                         |   [1.  0. ] |              |  [ 2.0436769]  |\n",
            "|              |         |          |                         |   [1.  1. ] |              |  [ 5.730333 ]  |\n",
            "|              |         |          |                         |   [1.  0.1] |              |  [ 2.4123425]  |\n",
            "|              |         |          |                         |   [1.  0.9] |              |  [ 5.361667 ]  |\n",
            "|              |         |          |                         |   [0.9 0.9] |              |  [ 5.0053453]  |\n",
            "|              |         |          |                         |  [0.1 0.9]] |              |  [ 2.1547704]] |\n",
            "+--------------+---------+----------+-------------------------+-------------+--------------+----------------+\n",
            "+--------------+---------+----------+-------------------------+-------------+-------------+----------------+\n",
            "|  Layer name  | #in dim | #out dim |        Vector(w)        |  Vector(x)  |  Vector(b)  |   Vector(z)    |\n",
            "+--------------+---------+----------+-------------------------+-------------+-------------+----------------+\n",
            "| Hidden Layer |    2    |    1     | [[3.5859468 3.7103503]] |  [[0.  0. ] | [-1.533181] | [[-1.5326991]  |\n",
            "|              |         |          |                         |   [0.  1. ] |             |  [ 2.1766896]  |\n",
            "|              |         |          |                         |   [1.  0. ] |             |  [ 2.05235  ]  |\n",
            "|              |         |          |                         |   [1.  1. ] |             |  [ 5.761739 ]  |\n",
            "|              |         |          |                         |   [1.  0.1] |             |  [ 2.4232888]  |\n",
            "|              |         |          |                         |   [1.  0.9] |             |  [ 5.3908   ]  |\n",
            "|              |         |          |                         |   [0.9 0.9] |             |  [ 5.0322948]  |\n",
            "|              |         |          |                         |  [0.1 0.9]] |             |  [ 2.1642556]] |\n",
            "+--------------+---------+----------+-------------------------+-------------+-------------+----------------+\n",
            "+--------------+---------+----------+-------------------------+-------------+-------------+----------------+\n",
            "|  Layer name  | #in dim | #out dim |        Vector(w)        |  Vector(x)  |  Vector(b)  |   Vector(z)    |\n",
            "+--------------+---------+----------+-------------------------+-------------+-------------+----------------+\n",
            "| Hidden Layer |    2    |    1     | [[3.5803447 3.7031717]] |  [[0.  0. ] | [-1.529349] | [[-1.5288634]  |\n",
            "|              |         |          |                         |   [0.  1. ] |             |  [ 2.1733406]  |\n",
            "|              |         |          |                         |   [1.  0. ] |             |  [ 2.0505798]  |\n",
            "|              |         |          |                         |   [1.  1. ] |             |  [ 5.752784 ]  |\n",
            "|              |         |          |                         |   [1.  0.1] |             |  [ 2.4208002]  |\n",
            "|              |         |          |                         |   [1.  0.9] |             |  [ 5.382563 ]  |\n",
            "|              |         |          |                         |   [0.9 0.9] |             |  [ 5.0246186]  |\n",
            "|              |         |          |                         |  [0.1 0.9]] |             |  [ 2.1610644]] |\n",
            "+--------------+---------+----------+-------------------------+-------------+-------------+----------------+\n",
            "Experiment #9:\n",
            "Number of hidden neurals = 1\tBypass = True\tlearning rate = 0.2\n"
          ]
        },
        {
          "output_type": "display_data",
          "data": {
            "text/html": [
              "<div>\n",
              "<style scoped>\n",
              "    .dataframe tbody tr th:only-of-type {\n",
              "        vertical-align: middle;\n",
              "    }\n",
              "\n",
              "    .dataframe tbody tr th {\n",
              "        vertical-align: top;\n",
              "    }\n",
              "\n",
              "    .dataframe thead th {\n",
              "        text-align: right;\n",
              "    }\n",
              "</style>\n",
              "<table border=\"1\" class=\"dataframe\">\n",
              "  <thead>\n",
              "    <tr style=\"text-align: right;\">\n",
              "      <th></th>\n",
              "      <th>#epochs</th>\n",
              "      <th>loss (Validation)</th>\n",
              "      <th>loss (train)</th>\n",
              "    </tr>\n",
              "  </thead>\n",
              "  <tbody>\n",
              "    <tr>\n",
              "      <th>0</th>\n",
              "      <td>937.0</td>\n",
              "      <td>0.06593154</td>\n",
              "      <td>0.05714868</td>\n",
              "    </tr>\n",
              "    <tr>\n",
              "      <th>1</th>\n",
              "      <td>999.0</td>\n",
              "      <td>0.06596314</td>\n",
              "      <td>0.057176344</td>\n",
              "    </tr>\n",
              "    <tr>\n",
              "      <th>2</th>\n",
              "      <td>909.0</td>\n",
              "      <td>0.06597725</td>\n",
              "      <td>0.0571855</td>\n",
              "    </tr>\n",
              "    <tr>\n",
              "      <th>3</th>\n",
              "      <td>1053.0</td>\n",
              "      <td>0.065900385</td>\n",
              "      <td>0.05710886</td>\n",
              "    </tr>\n",
              "    <tr>\n",
              "      <th>4</th>\n",
              "      <td>900.0</td>\n",
              "      <td>0.06594525</td>\n",
              "      <td>0.057167005</td>\n",
              "    </tr>\n",
              "    <tr>\n",
              "      <th>5</th>\n",
              "      <td>1069.0</td>\n",
              "      <td>0.06593917</td>\n",
              "      <td>0.057149526</td>\n",
              "    </tr>\n",
              "    <tr>\n",
              "      <th>6</th>\n",
              "      <td>871.0</td>\n",
              "      <td>0.06590196</td>\n",
              "      <td>0.057099037</td>\n",
              "    </tr>\n",
              "    <tr>\n",
              "      <th>7</th>\n",
              "      <td>946.0</td>\n",
              "      <td>0.06589731</td>\n",
              "      <td>0.057070106</td>\n",
              "    </tr>\n",
              "    <tr>\n",
              "      <th>8</th>\n",
              "      <td>1049.0</td>\n",
              "      <td>0.06592989</td>\n",
              "      <td>0.057148203</td>\n",
              "    </tr>\n",
              "    <tr>\n",
              "      <th>9</th>\n",
              "      <td>1805.0</td>\n",
              "      <td>0.065868616</td>\n",
              "      <td>0.0570739</td>\n",
              "    </tr>\n",
              "  </tbody>\n",
              "</table>\n",
              "</div>"
            ],
            "text/plain": [
              "   #epochs loss (Validation) loss (train)\n",
              "0    937.0        0.06593154   0.05714868\n",
              "1    999.0        0.06596314  0.057176344\n",
              "2    909.0        0.06597725    0.0571855\n",
              "3   1053.0       0.065900385   0.05710886\n",
              "4    900.0        0.06594525  0.057167005\n",
              "5   1069.0        0.06593917  0.057149526\n",
              "6    871.0        0.06590196  0.057099037\n",
              "7    946.0        0.06589731  0.057070106\n",
              "8   1049.0        0.06592989  0.057148203\n",
              "9   1805.0       0.065868616    0.0570739"
            ]
          },
          "metadata": {}
        },
        {
          "output_type": "display_data",
          "data": {
            "text/html": [
              "<div>\n",
              "<style scoped>\n",
              "    .dataframe tbody tr th:only-of-type {\n",
              "        vertical-align: middle;\n",
              "    }\n",
              "\n",
              "    .dataframe tbody tr th {\n",
              "        vertical-align: top;\n",
              "    }\n",
              "\n",
              "    .dataframe thead th {\n",
              "        text-align: right;\n",
              "    }\n",
              "</style>\n",
              "<table border=\"1\" class=\"dataframe\">\n",
              "  <thead>\n",
              "    <tr style=\"text-align: right;\">\n",
              "      <th></th>\n",
              "      <th>#Experiment</th>\n",
              "      <th>mean(#epochs)</th>\n",
              "      <th>sd(#epochs)</th>\n",
              "      <th>mean(train loss)</th>\n",
              "      <th>sd(train loss)</th>\n",
              "      <th>mean(valid loss)</th>\n",
              "      <th>sd(valid loss)</th>\n",
              "      <th>#fails</th>\n",
              "    </tr>\n",
              "  </thead>\n",
              "  <tbody>\n",
              "    <tr>\n",
              "      <th>0</th>\n",
              "      <td>9.0</td>\n",
              "      <td>1053.8</td>\n",
              "      <td>273.020064</td>\n",
              "      <td>0.057133</td>\n",
              "      <td>0.000042</td>\n",
              "      <td>0.065925</td>\n",
              "      <td>0.000033</td>\n",
              "      <td>0.0</td>\n",
              "    </tr>\n",
              "  </tbody>\n",
              "</table>\n",
              "</div>"
            ],
            "text/plain": [
              "   #Experiment  mean(#epochs)  ...  sd(valid loss)  #fails\n",
              "0          9.0         1053.8  ...        0.000033     0.0\n",
              "\n",
              "[1 rows x 8 columns]"
            ]
          },
          "metadata": {}
        }
      ]
    },
    {
      "cell_type": "markdown",
      "metadata": {
        "id": "ODugycQgGtRL"
      },
      "source": [
        "<img src=\"https://drive.google.com//uc?export=view&id=1XHQgtG3Fm7Y6pT6T227TvFTBiZJinIy4\" align = \"right\">\n",
        "\n",
        "\n",
        "\n",
        "\n"
      ]
    },
    {
      "cell_type": "markdown",
      "metadata": {
        "id": "EcenNh0XmxIC"
      },
      "source": [
        ">## First running results:   \n",
        "note: In zoom-in you can probably see something   \n",
        "<img src=\"https://drive.google.com//uc?export=view&id=18PGbs9vH0hOxvuPT5bns4DwjQXOSsVfo\" align = \"right\">  \n"
      ]
    },
    {
      "cell_type": "code",
      "metadata": {
        "colab": {
          "base_uri": "https://localhost:8080/"
        },
        "id": "wsoStxfyrWxd",
        "outputId": "8c814107-fcc9-4538-abf4-19b96692ea77"
      },
      "source": [
        "exp9.model.print_network()"
      ],
      "execution_count": null,
      "outputs": [
        {
          "output_type": "stream",
          "name": "stdout",
          "text": [
            "Network input:\n",
            "tensor([[0.0000, 0.0000],\n",
            "        [0.0000, 1.0000],\n",
            "        [1.0000, 0.0000],\n",
            "        [1.0000, 1.0000],\n",
            "        [1.0000, 0.1000],\n",
            "        [1.0000, 0.9000],\n",
            "        [0.9000, 0.9000],\n",
            "        [0.1000, 0.9000]], grad_fn=<CloneBackward0>)\n",
            "Network output:\n",
            "tensor([[0.0857],\n",
            "        [0.9383],\n",
            "        [0.9538],\n",
            "        [0.0273],\n",
            "        [0.9208],\n",
            "        [0.0525],\n",
            "        [0.0955],\n",
            "        [0.9400]], grad_fn=<MulBackward0>)\n",
            " \n",
            "+--------------+---------+----------+---------------------------+-------------+--------------+----------------+\n",
            "|  Layer name  | #in dim | #out dim |         Vector(w)         |  Vector(x)  |  Vector(b)   |   Vector(z)    |\n",
            "+--------------+---------+----------+---------------------------+-------------+--------------+----------------+\n",
            "| Hidden Layer |    2    |    1     | [[0.03153878 0.37630665]] |  [[0.  0. ] | [0.39830786] | [[-1.5288634]  |\n",
            "|              |         |          |                           |   [0.  1. ] |              |  [ 2.1733406]  |\n",
            "|              |         |          |                           |   [1.  0. ] |              |  [ 2.0505798]  |\n",
            "|              |         |          |                           |   [1.  1. ] |              |  [ 5.752784 ]  |\n",
            "|              |         |          |                           |   [1.  0.1] |              |  [ 2.4208002]  |\n",
            "|              |         |          |                           |   [1.  0.9] |              |  [ 5.382563 ]  |\n",
            "|              |         |          |                           |   [0.9 0.9] |              |  [ 5.0246186]  |\n",
            "|              |         |          |                           |  [0.1 0.9]] |              |  [ 2.1610644]] |\n",
            "+--------------+---------+----------+---------------------------+-------------+--------------+----------------+\n",
            "\n",
            "+--------------+---------+----------+--------------------------------------+--------------------------------------+--------------+----------------+\n",
            "|  Layer name  | #in dim | #out dim |              Vector(w)               |              Vector(x)               |  Vector(b)   |   Vector(z)    |\n",
            "+--------------+---------+----------+--------------------------------------+--------------------------------------+--------------+----------------+\n",
            "| Output Layer |    3    |    1     | [[0.32342517 0.71000004 0.27217108]] | [[0.         0.         0.04488505]  | [0.44204807] | [[-1.1836607]  |\n",
            "|              |         |          |                                      |  [0.         1.         0.9872158 ]  |              |  [ 1.3606062]  |\n",
            "|              |         |          |                                      |  [1.         0.         0.983716  ]  |              |  [ 1.5135262]  |\n",
            "|              |         |          |                                      |  [1.         1.         0.99998987]  |              |  [-1.7869763]  |\n",
            "|              |         |          |                                      |  [1.         0.1        0.9921674 ]  |              |  [ 1.2265451]  |\n",
            "|              |         |          |                                      |  [1.         0.9        0.9999789 ]  |              |  [-1.4467239]  |\n",
            "|              |         |          |                                      |  [0.9        0.9        0.9999567 ]  |              |  [-1.1240435]  |\n",
            "|              |         |          |                                      |  [0.1        0.9        0.98690224]] |              |  [ 1.3761282]] |\n",
            "+--------------+---------+----------+--------------------------------------+--------------------------------------+--------------+----------------+\n"
          ]
        }
      ]
    },
    {
      "cell_type": "markdown",
      "metadata": {
        "id": "D2XQ80YtFq6Z"
      },
      "source": [
        "# Experiment 9-   \n",
        "* **The neuron in the hidden layer behaves like an *OR* function.**  \n",
        "  **If we pay attention, the neuron output is negative throughout the  epochs only when the input is x1 = 0, x2 = 0**"
      ]
    },
    {
      "cell_type": "markdown",
      "metadata": {
        "id": "FRp-A18OlAyn"
      },
      "source": [
        "# Evaluating the results:"
      ]
    },
    {
      "cell_type": "code",
      "metadata": {
        "id": "PCKC49pCoVfq",
        "colab": {
          "base_uri": "https://localhost:8080/",
          "height": 955
        },
        "outputId": "40ac8670-10e8-441a-850b-acac18a15de9"
      },
      "source": [
        "# print(exp1.summary_table.iloc[0]['mean(#epochs)'])\n",
        "total_data = {'#hidden':  [exp1.num_hidden, exp2.num_hidden,exp3.num_hidden,exp4.num_hidden,exp5.num_hidden \n",
        "                                 ,exp6.num_hidden,exp7.num_hidden,exp8.num_hidden,exp9.num_hidden],\n",
        "                     'mean(#epochs)': [exp1.summary_table.iloc[0]['mean(#epochs)'],exp2.summary_table.iloc[0]['mean(#epochs)'],\n",
        "                                       exp3.summary_table.iloc[0]['mean(#epochs)'],exp4.summary_table.iloc[0]['mean(#epochs)'],\n",
        "                                       exp5.summary_table.iloc[0]['mean(#epochs)'],exp6.summary_table.iloc[0]['mean(#epochs)'],\n",
        "                                       exp7.summary_table.iloc[0]['mean(#epochs)'],exp8.summary_table.iloc[0]['mean(#epochs)'],\n",
        "                                       exp9.summary_table.iloc[0]['mean(#epochs)']], \n",
        "                     'Bypass':[exp1.bypass, exp2.bypass,exp3.bypass,exp4.bypass,exp5.bypass,exp6.bypass,exp7.bypass,exp8.bypass,exp9.bypass],\n",
        "                    'learning_rate':[exp1.learning_rate, exp2.learning_rate,exp3.learning_rate,exp4.learning_rate,exp5.learning_rate,\n",
        "                                     exp6.learning_rate,exp7.learning_rate,exp8.learning_rate,exp9.learning_rate],\n",
        "              'STD(#epocs)':[exp1.summary_table.iloc[0]['sd(#epochs)'],exp2.summary_table.iloc[0]['sd(#epochs)'],\n",
        "                                       exp3.summary_table.iloc[0]['sd(#epochs)'],exp4.summary_table.iloc[0]['sd(#epochs)'],\n",
        "                                       exp5.summary_table.iloc[0]['sd(#epochs)'],exp6.summary_table.iloc[0]['sd(#epochs)'],\n",
        "                                       exp7.summary_table.iloc[0]['sd(#epochs)'],exp8.summary_table.iloc[0]['sd(#epochs)'],\n",
        "                                       exp9.summary_table.iloc[0]['sd(#epochs)']]}\n",
        "df_res = pd.DataFrame(total_data)\n",
        "#1. mean(epoc) x number_hidden\n",
        "sns.lineplot(data = df_res, x=\"#hidden\", y = 'mean(#epochs)').set(title = 'mean(#epochs) by hidden')\n",
        "plt.show()\n",
        "print(\"\\n\")\n",
        "\n",
        "#2.mean(epoc) x Bypass\n",
        "sns.boxplot(data=df_res, x='Bypass', y='mean(#epochs)').set(title = 'mean(#epochs) by bypass')\n",
        "plt.show()\n",
        "print(\"\\n\")\n",
        "\n",
        "#3.STD X learning rate\n",
        "sns.lineplot(data = df_res, x=\"learning_rate\", y = 'STD(#epocs)').set(title = 'sd(#epochs) by learning rate')\n",
        "plt.show()\n",
        "print(\"\\n\")"
      ],
      "execution_count": null,
      "outputs": [
        {
          "output_type": "display_data",
          "data": {
            "image/png": "[encoded data removed]",
            "text/plain": [
              "<Figure size 432x288 with 1 Axes>"
            ]
          },
          "metadata": {
            "needs_background": "light"
          }
        },
        {
          "output_type": "stream",
          "name": "stdout",
          "text": [
            "\n",
            "\n"
          ]
        },
        {
          "output_type": "display_data",
          "data": {
            "image/png": "[encoded data removed]",
            "text/plain": [
              "<Figure size 432x288 with 1 Axes>"
            ]
          },
          "metadata": {
            "needs_background": "light"
          }
        },
        {
          "output_type": "stream",
          "name": "stdout",
          "text": [
            "\n",
            "\n"
          ]
        },
        {
          "output_type": "display_data",
          "data": {
            "image/png": "[encoded data removed]",
            "text/plain": [
              "<Figure size 432x288 with 1 Axes>"
            ]
          },
          "metadata": {
            "needs_background": "light"
          }
        },
        {
          "output_type": "stream",
          "name": "stdout",
          "text": [
            "\n",
            "\n"
          ]
        }
      ]
    },
    {
      "cell_type": "code",
      "metadata": {
        "colab": {
          "base_uri": "https://localhost:8080/",
          "height": 386
        },
        "id": "TbEyZ9dAII8E",
        "outputId": "bdf72a28-69f3-4901-a6c0-5e8e883f93a4"
      },
      "source": [
        "from mpl_toolkits import mplot3d\n",
        "%matplotlib inline\n",
        "x1 = exp9.model.hidden.vector_x[:, 0].detach().numpy()\n",
        "x2 = exp9.model.hidden.vector_x[:, 1].detach().numpy()\n",
        "z = exp9.model.hidden.vector_z[:, 0].detach().numpy()\n",
        "fig = plt.figure()\n",
        "ax = plt.axes(projection='3d')\n",
        "# Data for a three-dimensional line\n",
        "print(f'z={z}\\nx1 ={x1}\\nx2 ={x2}\\n\\nNeuron behavior from experiment 9 in space:\\n')\n",
        "ax.plot3D(x1, x2, z, 'gray')\n"
      ],
      "execution_count": null,
      "outputs": [
        {
          "output_type": "stream",
          "name": "stdout",
          "text": [
            "z=[-1.5288634  2.1733406  2.0505798  5.752784   2.4208002  5.382563\n",
            "  5.0246186  2.1610644]\n",
            "x1 =[0.  0.  1.  1.  1.  1.  0.9 0.1]\n",
            "x2 =[0.  1.  0.  1.  0.1 0.9 0.9 0.9]\n",
            "\n",
            "Neuron behavior from experiment 9 in space:\n",
            "\n"
          ]
        },
        {
          "output_type": "execute_result",
          "data": {
            "text/plain": [
              "[<mpl_toolkits.mplot3d.art3d.Line3D at 0x7f4da6e0b7d0>]"
            ]
          },
          "metadata": {},
          "execution_count": 145
        },
        {
          "output_type": "display_data",
          "data": {
            "image/png": "[encoded data removed]",
            "text/plain": [
              "<Figure size 432x288 with 1 Axes>"
            ]
          },
          "metadata": {
            "needs_background": "light"
          }
        }
      ]
    },
    {
      "cell_type": "markdown",
      "metadata": {
        "id": "13EH5Ser1KmP"
      },
      "source": [
        "# Analysis of Results  \n",
        "\n",
        "\n",
        "1.   mean epoch by hidden:  \n",
        "It can be seen that starting from a layer with 2 hidden neurons we begin to decrease the mean epochs.\n",
        "Also a hidden layer with a single neuron is unusual and significantly lower than the rest.\n",
        "- The more neurons there are in the hidden layer, the lower the average restraint (Except for one hidden).\n",
        "2.    mean epoch by Bypass:  \n",
        "It can be seen that when there is a bypass there is a significant decrease in the average epochs.\n",
        "\n",
        "3. sd epochs by learning rate:  \n",
        "It can be seen that as the rate of learning increases the standard deviation decreases significantly and vice versa, as the rate of learning decreases the standard deviation increases significantly.\n",
        "This makes sense because the pace of learning affects the epoch number.\n",
        "\n"
      ]
    },
    {
      "cell_type": "markdown",
      "metadata": {
        "id": "dFb_weOVAmKF"
      },
      "source": [
        ""
      ]
    },
    {
      "cell_type": "code",
      "metadata": {
        "id": "kpWz9ZFpGAml",
        "colab": {
          "base_uri": "https://localhost:8080/"
        },
        "outputId": "998192da-ee32-47a8-afa9-acc651944384"
      },
      "source": [
        "print(\"\"\"\n",
        "         / \\__\n",
        "        (    @\\___\n",
        "        /         O  <The end!>\n",
        "       /   (_____/\n",
        "      /_____/   U\"\"\")"
      ],
      "execution_count": null,
      "outputs": [
        {
          "output_type": "stream",
          "name": "stdout",
          "text": [
            "\n",
            "         / \\__\n",
            "        (    @\\___\n",
            "        /         O  <The end!>\n",
            "       /   (_____/\n",
            "      /_____/   U\n"
          ]
        }
      ]
    },
    {
      "cell_type": "markdown",
      "metadata": {
        "id": "5fe7CK4ZFR4S"
      },
      "source": [
        "#Conclusions from the assignment  \n",
        "\n",
        "\n",
        "1.   If the weights are changed in the middle of the training, the optimizer must be updated, since if this is not done, no training will be performed for the neural network.  \n",
        "\n",
        "2.   reminder: standard deviation calculation <img src=\"https://drive.google.com//uc?export=view&id=1grv7lkY4fiwyiqVWR23dKu5ORTAHMxsF\" align = \"right\">  \n",
        "\n",
        "3.   [to resize image](https://resizeimage.net/)\n",
        "4.   When dividing the loss by the number of examples, convergence takes place more quickly because this reduces the error.\n",
        "\n",
        "\n",
        "\n",
        "\n",
        "\n"
      ]
    }
  ]
}